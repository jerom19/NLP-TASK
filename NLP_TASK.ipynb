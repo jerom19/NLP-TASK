{
  "nbformat": 4,
  "nbformat_minor": 0,
  "metadata": {
    "colab": {
      "provenance": [],
      "authorship_tag": "ABX9TyNDF9g5nU4hDcU3wzDMs5Ux",
      "include_colab_link": true
    },
    "kernelspec": {
      "name": "python3",
      "display_name": "Python 3"
    },
    "language_info": {
      "name": "python"
    }
  },
  "cells": [
    {
      "cell_type": "markdown",
      "metadata": {
        "id": "view-in-github",
        "colab_type": "text"
      },
      "source": [
        "<a href=\"https://colab.research.google.com/github/jerom19/NLP-TASK/blob/main/NLP_TASK.ipynb\" target=\"_parent\"><img src=\"https://colab.research.google.com/assets/colab-badge.svg\" alt=\"Open In Colab\"/></a>"
      ]
    },
    {
      "cell_type": "code",
      "execution_count": 1,
      "metadata": {
        "colab": {
          "base_uri": "https://localhost:8080/"
        },
        "id": "M99uqOvqrOBL",
        "outputId": "45591c83-c8c9-462c-dc4a-9fa46e5bd837"
      },
      "outputs": [
        {
          "output_type": "stream",
          "name": "stdout",
          "text": [
            "Looking in indexes: https://pypi.org/simple, https://us-python.pkg.dev/colab-wheels/public/simple/\n",
            "Collecting translate\n",
            "  Downloading translate-3.6.1-py2.py3-none-any.whl (12 kB)\n",
            "Requirement already satisfied: requests in /usr/local/lib/python3.8/dist-packages (from translate) (2.25.1)\n",
            "Collecting libretranslatepy==2.1.1\n",
            "  Downloading libretranslatepy-2.1.1-py3-none-any.whl (3.2 kB)\n",
            "Requirement already satisfied: lxml in /usr/local/lib/python3.8/dist-packages (from translate) (4.9.2)\n",
            "Requirement already satisfied: click in /usr/local/lib/python3.8/dist-packages (from translate) (7.1.2)\n",
            "Requirement already satisfied: urllib3<1.27,>=1.21.1 in /usr/local/lib/python3.8/dist-packages (from requests->translate) (1.24.3)\n",
            "Requirement already satisfied: chardet<5,>=3.0.2 in /usr/local/lib/python3.8/dist-packages (from requests->translate) (4.0.0)\n",
            "Requirement already satisfied: idna<3,>=2.5 in /usr/local/lib/python3.8/dist-packages (from requests->translate) (2.10)\n",
            "Requirement already satisfied: certifi>=2017.4.17 in /usr/local/lib/python3.8/dist-packages (from requests->translate) (2022.12.7)\n",
            "Installing collected packages: libretranslatepy, translate\n",
            "Successfully installed libretranslatepy-2.1.1 translate-3.6.1\n"
          ]
        }
      ],
      "source": [
        "pip install translate"
      ]
    },
    {
      "cell_type": "code",
      "source": [
        "!pip install deep-translator"
      ],
      "metadata": {
        "colab": {
          "base_uri": "https://localhost:8080/"
        },
        "id": "nnuDSzpysce1",
        "outputId": "a23647e0-37e4-4951-de5b-113338b9baea"
      },
      "execution_count": 5,
      "outputs": [
        {
          "output_type": "stream",
          "name": "stdout",
          "text": [
            "Looking in indexes: https://pypi.org/simple, https://us-python.pkg.dev/colab-wheels/public/simple/\n",
            "Collecting deep-translator\n",
            "  Downloading deep_translator-1.9.1-py3-none-any.whl (30 kB)\n",
            "Requirement already satisfied: requests<3.0.0,>=2.23.0 in /usr/local/lib/python3.8/dist-packages (from deep-translator) (2.25.1)\n",
            "Collecting beautifulsoup4<5.0.0,>=4.9.1\n",
            "  Downloading beautifulsoup4-4.11.1-py3-none-any.whl (128 kB)\n",
            "\u001b[2K     \u001b[90m━━━━━━━━━━━━━━━━━━━━━━━━━━━━━━━━━━━━━━━\u001b[0m \u001b[32m128.2/128.2 KB\u001b[0m \u001b[31m7.1 MB/s\u001b[0m eta \u001b[36m0:00:00\u001b[0m\n",
            "\u001b[?25hCollecting soupsieve>1.2\n",
            "  Downloading soupsieve-2.3.2.post1-py3-none-any.whl (37 kB)\n",
            "Requirement already satisfied: urllib3<1.27,>=1.21.1 in /usr/local/lib/python3.8/dist-packages (from requests<3.0.0,>=2.23.0->deep-translator) (1.24.3)\n",
            "Requirement already satisfied: idna<3,>=2.5 in /usr/local/lib/python3.8/dist-packages (from requests<3.0.0,>=2.23.0->deep-translator) (2.10)\n",
            "Requirement already satisfied: certifi>=2017.4.17 in /usr/local/lib/python3.8/dist-packages (from requests<3.0.0,>=2.23.0->deep-translator) (2022.12.7)\n",
            "Requirement already satisfied: chardet<5,>=3.0.2 in /usr/local/lib/python3.8/dist-packages (from requests<3.0.0,>=2.23.0->deep-translator) (4.0.0)\n",
            "Installing collected packages: soupsieve, beautifulsoup4, deep-translator\n",
            "  Attempting uninstall: beautifulsoup4\n",
            "    Found existing installation: beautifulsoup4 4.6.3\n",
            "    Uninstalling beautifulsoup4-4.6.3:\n",
            "      Successfully uninstalled beautifulsoup4-4.6.3\n",
            "Successfully installed beautifulsoup4-4.11.1 deep-translator-1.9.1 soupsieve-2.3.2.post1\n"
          ]
        }
      ]
    },
    {
      "cell_type": "code",
      "source": [
        "!pip install pyspellchecker"
      ],
      "metadata": {
        "colab": {
          "base_uri": "https://localhost:8080/"
        },
        "id": "BRgkpB7QtVWL",
        "outputId": "627de7ad-656b-4366-d7cd-3ed9cf1fbb88"
      },
      "execution_count": 15,
      "outputs": [
        {
          "output_type": "stream",
          "name": "stdout",
          "text": [
            "Looking in indexes: https://pypi.org/simple, https://us-python.pkg.dev/colab-wheels/public/simple/\n",
            "Collecting pyspellchecker\n",
            "  Downloading pyspellchecker-0.7.1-py3-none-any.whl (2.5 MB)\n",
            "\u001b[2K     \u001b[90m━━━━━━━━━━━━━━━━━━━━━━━━━━━━━━━━━━━━━━━━\u001b[0m \u001b[32m2.5/2.5 MB\u001b[0m \u001b[31m29.7 MB/s\u001b[0m eta \u001b[36m0:00:00\u001b[0m\n",
            "\u001b[?25hInstalling collected packages: pyspellchecker\n",
            "Successfully installed pyspellchecker-0.7.1\n"
          ]
        }
      ]
    },
    {
      "cell_type": "code",
      "source": [
        "import pandas as pd\n",
        "import nltk\n",
        "nltk.download('punkt')\n",
        "nltk.download('wordnet')"
      ],
      "metadata": {
        "colab": {
          "base_uri": "https://localhost:8080/"
        },
        "id": "Llz-jxhcsJj1",
        "outputId": "6a25ee9e-4336-4870-8277-95e9a5f51e21"
      },
      "execution_count": 2,
      "outputs": [
        {
          "output_type": "stream",
          "name": "stderr",
          "text": [
            "[nltk_data] Downloading package punkt to /root/nltk_data...\n",
            "[nltk_data]   Unzipping tokenizers/punkt.zip.\n",
            "[nltk_data] Downloading package wordnet to /root/nltk_data...\n"
          ]
        },
        {
          "output_type": "execute_result",
          "data": {
            "text/plain": [
              "True"
            ]
          },
          "metadata": {},
          "execution_count": 2
        }
      ]
    },
    {
      "cell_type": "code",
      "source": [
        "data=pd.read_csv('/content/English.csv')\n",
        "data.head()"
      ],
      "metadata": {
        "colab": {
          "base_uri": "https://localhost:8080/",
          "height": 206
        },
        "id": "HetxiZQwsPMf",
        "outputId": "2e3ab209-dc3c-4124-eb9c-18b402f347fb"
      },
      "execution_count": 3,
      "outputs": [
        {
          "output_type": "execute_result",
          "data": {
            "text/plain": [
              "  English words/sentences\n",
              "0                     Hi.\n",
              "1                    Run!\n",
              "2                    Run!\n",
              "3                    Who?\n",
              "4                    Wow!"
            ],
            "text/html": [
              "\n",
              "  <div id=\"df-cf94f9e2-672e-4cab-9103-f96a35a14030\">\n",
              "    <div class=\"colab-df-container\">\n",
              "      <div>\n",
              "<style scoped>\n",
              "    .dataframe tbody tr th:only-of-type {\n",
              "        vertical-align: middle;\n",
              "    }\n",
              "\n",
              "    .dataframe tbody tr th {\n",
              "        vertical-align: top;\n",
              "    }\n",
              "\n",
              "    .dataframe thead th {\n",
              "        text-align: right;\n",
              "    }\n",
              "</style>\n",
              "<table border=\"1\" class=\"dataframe\">\n",
              "  <thead>\n",
              "    <tr style=\"text-align: right;\">\n",
              "      <th></th>\n",
              "      <th>English words/sentences</th>\n",
              "    </tr>\n",
              "  </thead>\n",
              "  <tbody>\n",
              "    <tr>\n",
              "      <th>0</th>\n",
              "      <td>Hi.</td>\n",
              "    </tr>\n",
              "    <tr>\n",
              "      <th>1</th>\n",
              "      <td>Run!</td>\n",
              "    </tr>\n",
              "    <tr>\n",
              "      <th>2</th>\n",
              "      <td>Run!</td>\n",
              "    </tr>\n",
              "    <tr>\n",
              "      <th>3</th>\n",
              "      <td>Who?</td>\n",
              "    </tr>\n",
              "    <tr>\n",
              "      <th>4</th>\n",
              "      <td>Wow!</td>\n",
              "    </tr>\n",
              "  </tbody>\n",
              "</table>\n",
              "</div>\n",
              "      <button class=\"colab-df-convert\" onclick=\"convertToInteractive('df-cf94f9e2-672e-4cab-9103-f96a35a14030')\"\n",
              "              title=\"Convert this dataframe to an interactive table.\"\n",
              "              style=\"display:none;\">\n",
              "        \n",
              "  <svg xmlns=\"http://www.w3.org/2000/svg\" height=\"24px\"viewBox=\"0 0 24 24\"\n",
              "       width=\"24px\">\n",
              "    <path d=\"M0 0h24v24H0V0z\" fill=\"none\"/>\n",
              "    <path d=\"M18.56 5.44l.94 2.06.94-2.06 2.06-.94-2.06-.94-.94-2.06-.94 2.06-2.06.94zm-11 1L8.5 8.5l.94-2.06 2.06-.94-2.06-.94L8.5 2.5l-.94 2.06-2.06.94zm10 10l.94 2.06.94-2.06 2.06-.94-2.06-.94-.94-2.06-.94 2.06-2.06.94z\"/><path d=\"M17.41 7.96l-1.37-1.37c-.4-.4-.92-.59-1.43-.59-.52 0-1.04.2-1.43.59L10.3 9.45l-7.72 7.72c-.78.78-.78 2.05 0 2.83L4 21.41c.39.39.9.59 1.41.59.51 0 1.02-.2 1.41-.59l7.78-7.78 2.81-2.81c.8-.78.8-2.07 0-2.86zM5.41 20L4 18.59l7.72-7.72 1.47 1.35L5.41 20z\"/>\n",
              "  </svg>\n",
              "      </button>\n",
              "      \n",
              "  <style>\n",
              "    .colab-df-container {\n",
              "      display:flex;\n",
              "      flex-wrap:wrap;\n",
              "      gap: 12px;\n",
              "    }\n",
              "\n",
              "    .colab-df-convert {\n",
              "      background-color: #E8F0FE;\n",
              "      border: none;\n",
              "      border-radius: 50%;\n",
              "      cursor: pointer;\n",
              "      display: none;\n",
              "      fill: #1967D2;\n",
              "      height: 32px;\n",
              "      padding: 0 0 0 0;\n",
              "      width: 32px;\n",
              "    }\n",
              "\n",
              "    .colab-df-convert:hover {\n",
              "      background-color: #E2EBFA;\n",
              "      box-shadow: 0px 1px 2px rgba(60, 64, 67, 0.3), 0px 1px 3px 1px rgba(60, 64, 67, 0.15);\n",
              "      fill: #174EA6;\n",
              "    }\n",
              "\n",
              "    [theme=dark] .colab-df-convert {\n",
              "      background-color: #3B4455;\n",
              "      fill: #D2E3FC;\n",
              "    }\n",
              "\n",
              "    [theme=dark] .colab-df-convert:hover {\n",
              "      background-color: #434B5C;\n",
              "      box-shadow: 0px 1px 3px 1px rgba(0, 0, 0, 0.15);\n",
              "      filter: drop-shadow(0px 1px 2px rgba(0, 0, 0, 0.3));\n",
              "      fill: #FFFFFF;\n",
              "    }\n",
              "  </style>\n",
              "\n",
              "      <script>\n",
              "        const buttonEl =\n",
              "          document.querySelector('#df-cf94f9e2-672e-4cab-9103-f96a35a14030 button.colab-df-convert');\n",
              "        buttonEl.style.display =\n",
              "          google.colab.kernel.accessAllowed ? 'block' : 'none';\n",
              "\n",
              "        async function convertToInteractive(key) {\n",
              "          const element = document.querySelector('#df-cf94f9e2-672e-4cab-9103-f96a35a14030');\n",
              "          const dataTable =\n",
              "            await google.colab.kernel.invokeFunction('convertToInteractive',\n",
              "                                                     [key], {});\n",
              "          if (!dataTable) return;\n",
              "\n",
              "          const docLinkHtml = 'Like what you see? Visit the ' +\n",
              "            '<a target=\"_blank\" href=https://colab.research.google.com/notebooks/data_table.ipynb>data table notebook</a>'\n",
              "            + ' to learn more about interactive tables.';\n",
              "          element.innerHTML = '';\n",
              "          dataTable['output_type'] = 'display_data';\n",
              "          await google.colab.output.renderOutput(dataTable, element);\n",
              "          const docLink = document.createElement('div');\n",
              "          docLink.innerHTML = docLinkHtml;\n",
              "          element.appendChild(docLink);\n",
              "        }\n",
              "      </script>\n",
              "    </div>\n",
              "  </div>\n",
              "  "
            ]
          },
          "metadata": {},
          "execution_count": 3
        }
      ]
    },
    {
      "cell_type": "code",
      "source": [
        "data.shape"
      ],
      "metadata": {
        "colab": {
          "base_uri": "https://localhost:8080/"
        },
        "id": "BIv5PSU9sX-h",
        "outputId": "aa2a6362-0356-4321-eecd-40bd3a5b6253"
      },
      "execution_count": 4,
      "outputs": [
        {
          "output_type": "execute_result",
          "data": {
            "text/plain": [
              "(175621, 1)"
            ]
          },
          "metadata": {},
          "execution_count": 4
        }
      ]
    },
    {
      "cell_type": "code",
      "source": [
        "from deep_translator import GoogleTranslator"
      ],
      "metadata": {
        "id": "m9kTm4YMsgCg"
      },
      "execution_count": 6,
      "outputs": []
    },
    {
      "cell_type": "code",
      "source": [
        "df = pd.DataFrame(data[\"English words/sentences\"].unique()).rename(columns = {0:'English Words'})\n",
        "print(df)"
      ],
      "metadata": {
        "colab": {
          "base_uri": "https://localhost:8080/"
        },
        "id": "34e70zeJsjr8",
        "outputId": "797ddfb4-f19c-41e9-d9a8-74364db82965"
      },
      "execution_count": 7,
      "outputs": [
        {
          "output_type": "stream",
          "name": "stdout",
          "text": [
            "                                            English Words\n",
            "0                                                     Hi.\n",
            "1                                                    Run!\n",
            "2                                                    Who?\n",
            "3                                                    Wow!\n",
            "4                                                   Fire!\n",
            "...                                                   ...\n",
            "123095  Top-down economics never works, said Obama. \"T...\n",
            "123096  A carbon footprint is the amount of carbon dio...\n",
            "123097  Death is something that we're often discourage...\n",
            "123098  Since there are usually multiple websites on a...\n",
            "123099  If someone who doesn't know your background sa...\n",
            "\n",
            "[123100 rows x 1 columns]\n"
          ]
        }
      ]
    },
    {
      "cell_type": "code",
      "source": [
        "df[\"English Words\"] = df[\"English Words\"].str.replace(\"[^a-zA-Z0-9]\", \" \") \n",
        "df[\"English Words\"]"
      ],
      "metadata": {
        "colab": {
          "base_uri": "https://localhost:8080/"
        },
        "id": "-1PCaxHssmak",
        "outputId": "4250d9b0-d4fa-4f74-a6ff-6e5bad6d6282"
      },
      "execution_count": 8,
      "outputs": [
        {
          "output_type": "stream",
          "name": "stderr",
          "text": [
            "<ipython-input-8-553ade722416>:1: FutureWarning: The default value of regex will change from True to False in a future version.\n",
            "  df[\"English Words\"] = df[\"English Words\"].str.replace(\"[^a-zA-Z0-9]\", \" \")\n"
          ]
        },
        {
          "output_type": "execute_result",
          "data": {
            "text/plain": [
              "0                                                       Hi \n",
              "1                                                      Run \n",
              "2                                                      Who \n",
              "3                                                      Wow \n",
              "4                                                     Fire \n",
              "                                ...                        \n",
              "123095    Top down economics never works  said Obama   T...\n",
              "123096    A carbon footprint is the amount of carbon dio...\n",
              "123097    Death is something that we re often discourage...\n",
              "123098    Since there are usually multiple websites on a...\n",
              "123099    If someone who doesn t know your background sa...\n",
              "Name: English Words, Length: 123100, dtype: object"
            ]
          },
          "metadata": {},
          "execution_count": 8
        }
      ]
    },
    {
      "cell_type": "code",
      "source": [
        "def Translate(rev):\n",
        "    translation_tokenized = GoogleTranslator(source='english', target='fr').translate(rev)\n",
        "    return translation_tokenized"
      ],
      "metadata": {
        "id": "7moUorzrsrIo"
      },
      "execution_count": 9,
      "outputs": []
    },
    {
      "cell_type": "code",
      "source": [
        "Trans_French = [Translate(r) for r in df[\"English Words\"].head(100)]\n",
        "Trans_French"
      ],
      "metadata": {
        "colab": {
          "base_uri": "https://localhost:8080/"
        },
        "id": "tjwD2yFIsvRe",
        "outputId": "73f0594a-c63a-40f9-a63f-7f3ec396b5c9"
      },
      "execution_count": 10,
      "outputs": [
        {
          "output_type": "execute_result",
          "data": {
            "text/plain": [
              "['Salut',\n",
              " 'Cours',\n",
              " 'Qui',\n",
              " 'Ouah',\n",
              " 'Feu',\n",
              " 'Aider',\n",
              " 'Sauter',\n",
              " 'Arrêter',\n",
              " 'Attendez',\n",
              " 'Continue',\n",
              " 'Bonjour',\n",
              " 'je vois',\n",
              " \"J'essaye\",\n",
              " \"J'ai gagné\",\n",
              " \"J'ai gagné\",\n",
              " 'Oh non',\n",
              " 'Attaque',\n",
              " 'À votre santé',\n",
              " 'Se lever',\n",
              " 'Allez maintenant',\n",
              " \"J'ai compris\",\n",
              " \"J'ai compris\",\n",
              " 'Monter dedans',\n",
              " 'HUG Me',\n",
              " 'je suis tombé',\n",
              " 'je sais',\n",
              " 'Je suis parti',\n",
              " \"j'ai menti\",\n",
              " \"J'ai perdu\",\n",
              " \"j'ai payé\",\n",
              " \"J'ai 19 ans\",\n",
              " 'Je vais bien',\n",
              " 'Ecoutez',\n",
              " 'Pas du tout',\n",
              " 'Vraiment',\n",
              " 'Merci',\n",
              " 'Nous essayons',\n",
              " 'Nous avons gagné',\n",
              " 'Demander à Tom',\n",
              " 'Impressionnant',\n",
              " 'Sois calme',\n",
              " 'Soit cool',\n",
              " 'Être juste',\n",
              " 'Etre gentil',\n",
              " 'Sois gentil',\n",
              " 'Batte-le',\n",
              " 'Appelle-moi',\n",
              " 'Appelez-nous',\n",
              " 'Entrez',\n",
              " 'Allez',\n",
              " 'Allez',\n",
              " 'Laisse tomber',\n",
              " 'Obtenez Tom',\n",
              " 'Sortir',\n",
              " 'Sortir',\n",
              " 'Va-t’en',\n",
              " 'Va-t’en',\n",
              " 'rentrer chez soi',\n",
              " 'Va lentement',\n",
              " 'Au revoir',\n",
              " 'Attendez',\n",
              " 'Attendez',\n",
              " 'Il quitte',\n",
              " 'Il court',\n",
              " 'Aide-moi',\n",
              " 'Aide-moi',\n",
              " 'Aidez nous',\n",
              " 'Le tenir',\n",
              " 'Tenir',\n",
              " 'Câlin à Tom',\n",
              " \"Je suis d'accord\",\n",
              " \"j'ai pleuré\",\n",
              " 'je me suis assoupi',\n",
              " 'je conduis',\n",
              " 'je fume',\n",
              " 'je ronfle',\n",
              " 'je pue',\n",
              " 'je me tenais',\n",
              " \"j'ai juré\",\n",
              " \"j'ai essayé\",\n",
              " \"j'ai agité\",\n",
              " \"J'y vais\",\n",
              " 'Je suis Tom',\n",
              " 'Je suis gros',\n",
              " 'Je suis mince',\n",
              " 'Je suis touché',\n",
              " 'Je suis malade',\n",
              " 'Je suis triste',\n",
              " 'Je suis timide',\n",
              " 'Je suis trempé',\n",
              " \"C'est moi\",\n",
              " 'Rejoignez-nous',\n",
              " 'Garde le',\n",
              " 'Embrasse-moi',\n",
              " 'Moi aussi',\n",
              " \"S'ouvrir\",\n",
              " 'Parfait',\n",
              " 'À plus tard',\n",
              " 'À plus tard',\n",
              " 'Montrez-moi']"
            ]
          },
          "metadata": {},
          "execution_count": 10
        }
      ]
    },
    {
      "cell_type": "code",
      "source": [
        "def Translate_De(rev):\n",
        "    translation_tokenized = GoogleTranslator(source='english', target='de').translate(rev)\n",
        "    return translation_tokenized"
      ],
      "metadata": {
        "id": "w8_7cLbBsw69"
      },
      "execution_count": 11,
      "outputs": []
    },
    {
      "cell_type": "code",
      "source": [
        "Trans_German = [Translate_De(r) for r in df[\"English Words\"].head(100)]\n",
        "Trans_German"
      ],
      "metadata": {
        "colab": {
          "base_uri": "https://localhost:8080/"
        },
        "id": "nRyPvwyvtATP",
        "outputId": "002e29c6-6a83-4847-914c-3337fc72ca35"
      },
      "execution_count": 12,
      "outputs": [
        {
          "output_type": "execute_result",
          "data": {
            "text/plain": [
              "['Hi',\n",
              " 'Laufen',\n",
              " 'Wer',\n",
              " 'Wow',\n",
              " 'Feuer',\n",
              " 'Hilfe',\n",
              " 'Springen',\n",
              " 'Halt',\n",
              " 'Warte ab',\n",
              " 'Mach weiter',\n",
              " 'Hallo',\n",
              " 'Ich verstehe',\n",
              " 'ich versuche',\n",
              " 'ich habe gewonnen',\n",
              " 'ich habe gewonnen',\n",
              " 'Ach nein',\n",
              " 'Attacke',\n",
              " 'Prost',\n",
              " 'Aufstehen',\n",
              " 'Geh jetzt',\n",
              " 'Habe es',\n",
              " 'Habe es',\n",
              " 'Steigen Sie ein',\n",
              " 'Umarme mich',\n",
              " 'Ich fiel',\n",
              " 'Ich kenne',\n",
              " 'Ich ging weg',\n",
              " 'ich habe gelogen',\n",
              " 'Ich habe verloren',\n",
              " 'ich habe bezahlt',\n",
              " 'Ich bin 19',\n",
              " 'Ich bin OK',\n",
              " 'Hören',\n",
              " 'Auf keinen Fall',\n",
              " 'Wirklich',\n",
              " 'Danke',\n",
              " 'Wir versuchen',\n",
              " 'Wir haben gewonnen',\n",
              " 'Frag Tom',\n",
              " 'Genial',\n",
              " 'Ruhig sein',\n",
              " 'Sei cool',\n",
              " 'Sei fair',\n",
              " 'Sei freundlich',\n",
              " 'Sei nett',\n",
              " 'Mach dich vom Acker',\n",
              " 'Rufen Sie mich an',\n",
              " 'Rufen Sie uns an',\n",
              " 'Komm herein',\n",
              " 'Komm schon',\n",
              " 'Komm schon',\n",
              " 'Lass es fallen',\n",
              " 'Hol Tom',\n",
              " 'Aussteigen',\n",
              " 'Aussteigen',\n",
              " 'Geh weg',\n",
              " 'Geh weg',\n",
              " 'Nach Hause gehen',\n",
              " 'Mach langsam',\n",
              " 'Auf Wiedersehen',\n",
              " 'Abwarten',\n",
              " 'Abwarten',\n",
              " 'Er hat gekündigt',\n",
              " 'Er rennt',\n",
              " 'Hilf mir',\n",
              " 'Hilf mir',\n",
              " 'Hilf uns',\n",
              " 'Halte es',\n",
              " 'Festhalten',\n",
              " 'Umarmung Tom',\n",
              " 'Ich stimme zu',\n",
              " 'Ich heulte',\n",
              " 'Ich döste',\n",
              " 'ich fahre',\n",
              " 'ich rauche',\n",
              " 'ich schnarche',\n",
              " 'ich stinke',\n",
              " 'ich stand',\n",
              " 'Ich schwor',\n",
              " 'Ich habe es versucht',\n",
              " 'ich winkte',\n",
              " 'Ich werde gehen',\n",
              " 'Ich bin Tom',\n",
              " 'Ich bin fett',\n",
              " 'Ich bin Fit',\n",
              " 'Ich bin getroffen',\n",
              " 'Ich bin krank',\n",
              " 'Ich bin traurig',\n",
              " 'Ich bin schüchtern',\n",
              " 'Ich bin nass',\n",
              " 'Da ich bin',\n",
              " 'Begleiten Sie uns',\n",
              " 'Behalte es',\n",
              " 'Küss mich',\n",
              " 'Ich auch',\n",
              " 'Aufmachen',\n",
              " 'Perfekt',\n",
              " \"Mach's gut\",\n",
              " \"Mach's gut\",\n",
              " 'Zeig es mir']"
            ]
          },
          "metadata": {},
          "execution_count": 12
        }
      ]
    },
    {
      "cell_type": "code",
      "source": [
        "def Translate_Es(rev):\n",
        "    translation_tokenized = GoogleTranslator(source='english', target='es').translate(rev)\n",
        "    return translation_tokenized"
      ],
      "metadata": {
        "id": "IjCIVHpRtIFA"
      },
      "execution_count": 13,
      "outputs": []
    },
    {
      "cell_type": "code",
      "source": [
        "Trans_Spanish= [Translate_Es(r) for r in df[\"English Words\"].head(100)]\n",
        "Trans_Spanish"
      ],
      "metadata": {
        "colab": {
          "base_uri": "https://localhost:8080/"
        },
        "id": "tr9M9lfAtMdP",
        "outputId": "7ae752fa-d084-4023-f26d-df7049fb6266"
      },
      "execution_count": 14,
      "outputs": [
        {
          "output_type": "execute_result",
          "data": {
            "text/plain": [
              "['Hola',\n",
              " 'Correr',\n",
              " 'Quién',\n",
              " 'Guau',\n",
              " 'Fuego',\n",
              " 'Ayudar',\n",
              " 'Salto',\n",
              " 'Deténgase',\n",
              " 'Esperar',\n",
              " 'Seguir',\n",
              " 'Hola',\n",
              " 'ya veo',\n",
              " 'lo intento',\n",
              " 'gané',\n",
              " 'gané',\n",
              " 'Oh, no',\n",
              " 'Ataque',\n",
              " 'Salud',\n",
              " 'Levantarse',\n",
              " 'Ve ahora',\n",
              " 'Entendido',\n",
              " 'Entendido',\n",
              " 'súbete',\n",
              " 'Abrázame',\n",
              " 'Me caí',\n",
              " 'lo sé',\n",
              " 'me fui',\n",
              " 'mentí',\n",
              " 'perdí',\n",
              " 'yo pagué',\n",
              " 'Tengo 19',\n",
              " 'Estoy bien',\n",
              " 'Escucha',\n",
              " 'De ninguna manera',\n",
              " 'Realmente',\n",
              " 'Gracias',\n",
              " 'Intentamos',\n",
              " 'Ganamos',\n",
              " 'preguntale a tom',\n",
              " 'Impresionante',\n",
              " 'Estate calmado',\n",
              " 'Relájate',\n",
              " 'Sé justo',\n",
              " 'Sé amable',\n",
              " 'Se bueno',\n",
              " 'Batirlo',\n",
              " 'Llámame',\n",
              " 'Llámanos',\n",
              " 'Adelante',\n",
              " 'Vamos',\n",
              " 'Vamos',\n",
              " 'Déjalo caer',\n",
              " 'conseguir tom',\n",
              " 'Salir',\n",
              " 'Salir',\n",
              " 'Vete',\n",
              " 'Vete',\n",
              " 'Vete a casa',\n",
              " 'Ve lento',\n",
              " 'Adiós',\n",
              " 'Aférrate',\n",
              " 'Aférrate',\n",
              " 'El lo dejó',\n",
              " 'El corre',\n",
              " 'Ayúdame',\n",
              " 'Ayúdame',\n",
              " 'Ayúdanos',\n",
              " 'aguantalo',\n",
              " 'Esperar',\n",
              " 'abrazo tom',\n",
              " 'Estoy de acuerdo',\n",
              " 'lloré',\n",
              " 'yo dormitaba',\n",
              " 'conduzco',\n",
              " 'yo fumo',\n",
              " 'yo ronco',\n",
              " 'Apesto',\n",
              " 'Me paré',\n",
              " 'lo jure',\n",
              " 'Lo intenté',\n",
              " 'Saludé',\n",
              " 'Iré',\n",
              " 'Soy Tom',\n",
              " 'Estoy gordo',\n",
              " 'Estoy en forma',\n",
              " 'Estoy golpeado',\n",
              " 'Estoy enfermo',\n",
              " 'Estoy triste',\n",
              " 'Soy tímido',\n",
              " 'Estoy mojado',\n",
              " 'Soy yo',\n",
              " 'Únete a nosotros',\n",
              " 'Quédatelo',\n",
              " 'Besame',\n",
              " 'Yo también',\n",
              " 'Abrir',\n",
              " 'Perfecto',\n",
              " 'Nos vemos',\n",
              " 'Nos vemos',\n",
              " 'Muéstrame']"
            ]
          },
          "metadata": {},
          "execution_count": 14
        }
      ]
    },
    {
      "cell_type": "code",
      "source": [
        "from textblob import Word"
      ],
      "metadata": {
        "id": "BYV6T-FKtZdE"
      },
      "execution_count": 16,
      "outputs": []
    },
    {
      "cell_type": "code",
      "source": [
        "word = Word([\"cmputr\", \"watr\", \"wriet\", \"athist\", \"acceptible\", \"benifit\", \"acommodate\", \"amatuer\", \"acknowlege\", \"becomeing\", \n",
        "                            \"camoflague\", \"catagory\", \"cauhgt\", \"cematery\", \"apparrent\", \"congradulate\", \"conceed\", \"definit\", \"disasterous\", \"dilema\",\n",
        "                            \"equiptment \", \"excede\", \"experiance\", \"innoculate\", \"extreem\", \"guage\", \"gratful\", \"guidence\", \"heirarchy\", \"dumbell\",\n",
        "                            \"necessery\", \"inteligence\", \"kernal\", \"libary\", \"outragous\", \"marshmellow\", \"miniture\", \"medeval\", \"nieghbor\", \"origenal\"])"
      ],
      "metadata": {
        "id": "NedSdSTqtc2q"
      },
      "execution_count": 20,
      "outputs": []
    },
    {
      "cell_type": "code",
      "source": [
        "from spellchecker import SpellChecker\n",
        " \n",
        "spellcheck = SpellChecker()\n",
        "\n",
        "misspelled_words = spellcheck.unknown([\"cmputr\", \"watr\", \"wriet\", \"athist\", \"acceptible\", \"benifit\", \"acommodate\", \"amatuer\", \"acknowlege\", \"becomeing\", \n",
        "                            \"camoflague\", \"catagory\", \"cauhgt\", \"cematery\", \"apparrent\", \"congradulate\", \"conceed\", \"definit\", \"disasterous\", \"dilema\",\n",
        "                            \"equiptment \", \"excede\", \"experiance\", \"innoculate\", \"extreem\", \"guage\", \"gratful\", \"guidence\", \"heirarchy\", \"dumbell\",\n",
        "                            \"necessery\", \"inteligence\", \"kernal\", \"libary\", \"outragous\", \"marshmellow\", \"miniture\", \"medeval\", \"nieghbor\", \"origenal\"])\n",
        "\n",
        "for word in misspelled_words:\n",
        "    print(spellcheck.correction(word))"
      ],
      "metadata": {
        "colab": {
          "base_uri": "https://localhost:8080/"
        },
        "id": "UesCBmRft0Yi",
        "outputId": "b6b4347b-2b06-4356-bec5-1e6ad81adaa1"
      },
      "execution_count": 21,
      "outputs": [
        {
          "output_type": "stream",
          "name": "stdout",
          "text": [
            "original\n",
            "atheist\n",
            "marshmallow\n",
            "apparent\n",
            "miniature\n",
            "neighbor\n",
            "write\n",
            "intelligence\n",
            "camouflage\n",
            "equipment\n",
            "computer\n",
            "acceptable\n",
            "gauge\n",
            "dumbbell\n",
            "cemetery\n",
            "benefit\n",
            "library\n",
            "category\n",
            "medieval\n",
            "congratulate\n",
            "amateur\n",
            "exceed\n",
            "disastrous\n",
            "accommodate\n",
            "necessary\n",
            "water\n",
            "grateful\n",
            "becoming\n",
            "acknowledge\n",
            "caught\n",
            "definite\n",
            "experience\n",
            "outrageous\n",
            "extreme\n",
            "hierarchy\n",
            "kernel\n",
            "inoculate\n",
            "dilemma\n",
            "concede\n",
            "guidance\n"
          ]
        }
      ]
    },
    {
      "cell_type": "code",
      "source": [
        "from textblob import TextBlob"
      ],
      "metadata": {
        "id": "aazMGuMzt9aC"
      },
      "execution_count": 22,
      "outputs": []
    },
    {
      "cell_type": "code",
      "source": [
        "sentence = TextBlob('Gramerly alone me to get those communications of and feel confidant that I’m putting me best for forwarded. Gramerly is like a little superpowar, especially when I need to bee at zero')"
      ],
      "metadata": {
        "id": "tVGHttAPwyx2"
      },
      "execution_count": 23,
      "outputs": []
    },
    {
      "cell_type": "code",
      "source": [
        "result = sentence.correct()\n",
        "print(result)"
      ],
      "metadata": {
        "colab": {
          "base_uri": "https://localhost:8080/"
        },
        "id": "iPxnYf98w7ds",
        "outputId": "6204a56e-7f37-4fca-88d1-c126b41fc840"
      },
      "execution_count": 25,
      "outputs": [
        {
          "output_type": "stream",
          "name": "stdout",
          "text": [
            "Gramerly alone me to get those communications of and feel confidant that I’m putting me best for forwarded. Gramerly is like a little superpowar, especially when I need to bee at zero\n"
          ]
        }
      ]
    },
    {
      "cell_type": "code",
      "source": [
        "import numpy as np\n",
        "import pandas as pd\n",
        "import matplotlib.pyplot as plt\n",
        "import warnings\n",
        "warnings.filterwarnings('ignore')\n",
        "from sklearn.naive_bayes import MultinomialNB\n",
        "from sklearn.multiclass import OneVsRestClassifier\n",
        "from sklearn import metrics\n",
        "from sklearn.metrics import accuracy_score\n",
        "from pandas.plotting import scatter_matrix\n",
        "from sklearn.neighbors import KNeighborsClassifier\n",
        "from sklearn import metrics\n",
        "     "
      ],
      "metadata": {
        "id": "T0tVgdYow9fD"
      },
      "execution_count": 26,
      "outputs": []
    },
    {
      "cell_type": "code",
      "source": [
        "Data=pd.read_csv(\"/content/UpdatedResumeDataSet.csv.zip\")\n",
        "Data['Cleaned_Resume']=''\n",
        "Data.head()"
      ],
      "metadata": {
        "colab": {
          "base_uri": "https://localhost:8080/",
          "height": 206
        },
        "id": "xYTqBPr4xD2A",
        "outputId": "d7e8def0-dfcf-4a24-adb5-f0b5013e5c29"
      },
      "execution_count": 48,
      "outputs": [
        {
          "output_type": "execute_result",
          "data": {
            "text/plain": [
              "       Category                                             Resume  \\\n",
              "0  Data Science  Skills * Programming Languages: Python (pandas...   \n",
              "1  Data Science  Education Details \\r\\nMay 2013 to May 2017 B.E...   \n",
              "2  Data Science  Areas of Interest Deep Learning, Control Syste...   \n",
              "3  Data Science  Skills â¢ R â¢ Python â¢ SAP HANA â¢ Table...   \n",
              "4  Data Science  Education Details \\r\\n MCA   YMCAUST,  Faridab...   \n",
              "\n",
              "  Cleaned_Resume  \n",
              "0                 \n",
              "1                 \n",
              "2                 \n",
              "3                 \n",
              "4                 "
            ],
            "text/html": [
              "\n",
              "  <div id=\"df-ab2a3ffc-7ef5-4400-b73b-f35f2226f45c\">\n",
              "    <div class=\"colab-df-container\">\n",
              "      <div>\n",
              "<style scoped>\n",
              "    .dataframe tbody tr th:only-of-type {\n",
              "        vertical-align: middle;\n",
              "    }\n",
              "\n",
              "    .dataframe tbody tr th {\n",
              "        vertical-align: top;\n",
              "    }\n",
              "\n",
              "    .dataframe thead th {\n",
              "        text-align: right;\n",
              "    }\n",
              "</style>\n",
              "<table border=\"1\" class=\"dataframe\">\n",
              "  <thead>\n",
              "    <tr style=\"text-align: right;\">\n",
              "      <th></th>\n",
              "      <th>Category</th>\n",
              "      <th>Resume</th>\n",
              "      <th>Cleaned_Resume</th>\n",
              "    </tr>\n",
              "  </thead>\n",
              "  <tbody>\n",
              "    <tr>\n",
              "      <th>0</th>\n",
              "      <td>Data Science</td>\n",
              "      <td>Skills * Programming Languages: Python (pandas...</td>\n",
              "      <td></td>\n",
              "    </tr>\n",
              "    <tr>\n",
              "      <th>1</th>\n",
              "      <td>Data Science</td>\n",
              "      <td>Education Details \\r\\nMay 2013 to May 2017 B.E...</td>\n",
              "      <td></td>\n",
              "    </tr>\n",
              "    <tr>\n",
              "      <th>2</th>\n",
              "      <td>Data Science</td>\n",
              "      <td>Areas of Interest Deep Learning, Control Syste...</td>\n",
              "      <td></td>\n",
              "    </tr>\n",
              "    <tr>\n",
              "      <th>3</th>\n",
              "      <td>Data Science</td>\n",
              "      <td>Skills â¢ R â¢ Python â¢ SAP HANA â¢ Table...</td>\n",
              "      <td></td>\n",
              "    </tr>\n",
              "    <tr>\n",
              "      <th>4</th>\n",
              "      <td>Data Science</td>\n",
              "      <td>Education Details \\r\\n MCA   YMCAUST,  Faridab...</td>\n",
              "      <td></td>\n",
              "    </tr>\n",
              "  </tbody>\n",
              "</table>\n",
              "</div>\n",
              "      <button class=\"colab-df-convert\" onclick=\"convertToInteractive('df-ab2a3ffc-7ef5-4400-b73b-f35f2226f45c')\"\n",
              "              title=\"Convert this dataframe to an interactive table.\"\n",
              "              style=\"display:none;\">\n",
              "        \n",
              "  <svg xmlns=\"http://www.w3.org/2000/svg\" height=\"24px\"viewBox=\"0 0 24 24\"\n",
              "       width=\"24px\">\n",
              "    <path d=\"M0 0h24v24H0V0z\" fill=\"none\"/>\n",
              "    <path d=\"M18.56 5.44l.94 2.06.94-2.06 2.06-.94-2.06-.94-.94-2.06-.94 2.06-2.06.94zm-11 1L8.5 8.5l.94-2.06 2.06-.94-2.06-.94L8.5 2.5l-.94 2.06-2.06.94zm10 10l.94 2.06.94-2.06 2.06-.94-2.06-.94-.94-2.06-.94 2.06-2.06.94z\"/><path d=\"M17.41 7.96l-1.37-1.37c-.4-.4-.92-.59-1.43-.59-.52 0-1.04.2-1.43.59L10.3 9.45l-7.72 7.72c-.78.78-.78 2.05 0 2.83L4 21.41c.39.39.9.59 1.41.59.51 0 1.02-.2 1.41-.59l7.78-7.78 2.81-2.81c.8-.78.8-2.07 0-2.86zM5.41 20L4 18.59l7.72-7.72 1.47 1.35L5.41 20z\"/>\n",
              "  </svg>\n",
              "      </button>\n",
              "      \n",
              "  <style>\n",
              "    .colab-df-container {\n",
              "      display:flex;\n",
              "      flex-wrap:wrap;\n",
              "      gap: 12px;\n",
              "    }\n",
              "\n",
              "    .colab-df-convert {\n",
              "      background-color: #E8F0FE;\n",
              "      border: none;\n",
              "      border-radius: 50%;\n",
              "      cursor: pointer;\n",
              "      display: none;\n",
              "      fill: #1967D2;\n",
              "      height: 32px;\n",
              "      padding: 0 0 0 0;\n",
              "      width: 32px;\n",
              "    }\n",
              "\n",
              "    .colab-df-convert:hover {\n",
              "      background-color: #E2EBFA;\n",
              "      box-shadow: 0px 1px 2px rgba(60, 64, 67, 0.3), 0px 1px 3px 1px rgba(60, 64, 67, 0.15);\n",
              "      fill: #174EA6;\n",
              "    }\n",
              "\n",
              "    [theme=dark] .colab-df-convert {\n",
              "      background-color: #3B4455;\n",
              "      fill: #D2E3FC;\n",
              "    }\n",
              "\n",
              "    [theme=dark] .colab-df-convert:hover {\n",
              "      background-color: #434B5C;\n",
              "      box-shadow: 0px 1px 3px 1px rgba(0, 0, 0, 0.15);\n",
              "      filter: drop-shadow(0px 1px 2px rgba(0, 0, 0, 0.3));\n",
              "      fill: #FFFFFF;\n",
              "    }\n",
              "  </style>\n",
              "\n",
              "      <script>\n",
              "        const buttonEl =\n",
              "          document.querySelector('#df-ab2a3ffc-7ef5-4400-b73b-f35f2226f45c button.colab-df-convert');\n",
              "        buttonEl.style.display =\n",
              "          google.colab.kernel.accessAllowed ? 'block' : 'none';\n",
              "\n",
              "        async function convertToInteractive(key) {\n",
              "          const element = document.querySelector('#df-ab2a3ffc-7ef5-4400-b73b-f35f2226f45c');\n",
              "          const dataTable =\n",
              "            await google.colab.kernel.invokeFunction('convertToInteractive',\n",
              "                                                     [key], {});\n",
              "          if (!dataTable) return;\n",
              "\n",
              "          const docLinkHtml = 'Like what you see? Visit the ' +\n",
              "            '<a target=\"_blank\" href=https://colab.research.google.com/notebooks/data_table.ipynb>data table notebook</a>'\n",
              "            + ' to learn more about interactive tables.';\n",
              "          element.innerHTML = '';\n",
              "          dataTable['output_type'] = 'display_data';\n",
              "          await google.colab.output.renderOutput(dataTable, element);\n",
              "          const docLink = document.createElement('div');\n",
              "          docLink.innerHTML = docLinkHtml;\n",
              "          element.appendChild(docLink);\n",
              "        }\n",
              "      </script>\n",
              "    </div>\n",
              "  </div>\n",
              "  "
            ]
          },
          "metadata": {},
          "execution_count": 48
        }
      ]
    },
    {
      "cell_type": "code",
      "source": [
        "Data.shape"
      ],
      "metadata": {
        "colab": {
          "base_uri": "https://localhost:8080/"
        },
        "id": "Qs0WlfbWy47x",
        "outputId": "123a0a01-8976-468e-ec90-12c462f59920"
      },
      "execution_count": 49,
      "outputs": [
        {
          "output_type": "execute_result",
          "data": {
            "text/plain": [
              "(962, 3)"
            ]
          },
          "metadata": {},
          "execution_count": 49
        }
      ]
    },
    {
      "cell_type": "code",
      "source": [
        "Data.info()"
      ],
      "metadata": {
        "colab": {
          "base_uri": "https://localhost:8080/"
        },
        "id": "sE2R9VFBy7up",
        "outputId": "dd48e355-fe92-4410-956e-3ab5d50208d4"
      },
      "execution_count": 50,
      "outputs": [
        {
          "output_type": "stream",
          "name": "stdout",
          "text": [
            "<class 'pandas.core.frame.DataFrame'>\n",
            "RangeIndex: 962 entries, 0 to 961\n",
            "Data columns (total 3 columns):\n",
            " #   Column          Non-Null Count  Dtype \n",
            "---  ------          --------------  ----- \n",
            " 0   Category        962 non-null    object\n",
            " 1   Resume          962 non-null    object\n",
            " 2   Cleaned_Resume  962 non-null    object\n",
            "dtypes: object(3)\n",
            "memory usage: 22.7+ KB\n"
          ]
        }
      ]
    },
    {
      "cell_type": "code",
      "source": [
        "Data['Category'].unique()"
      ],
      "metadata": {
        "colab": {
          "base_uri": "https://localhost:8080/"
        },
        "id": "vChhXHE0y_Ai",
        "outputId": "6520f6f8-a097-4aa8-b5ec-7057bd06547d"
      },
      "execution_count": 51,
      "outputs": [
        {
          "output_type": "execute_result",
          "data": {
            "text/plain": [
              "array(['Data Science', 'HR', 'Advocate', 'Arts', 'Web Designing',\n",
              "       'Mechanical Engineer', 'Sales', 'Health and fitness',\n",
              "       'Civil Engineer', 'Java Developer', 'Business Analyst',\n",
              "       'SAP Developer', 'Automation Testing', 'Electrical Engineering',\n",
              "       'Operations Manager', 'Python Developer', 'DevOps Engineer',\n",
              "       'Network Security Engineer', 'PMO', 'Database', 'Hadoop',\n",
              "       'ETL Developer', 'DotNet Developer', 'Blockchain', 'Testing'],\n",
              "      dtype=object)"
            ]
          },
          "metadata": {},
          "execution_count": 51
        }
      ]
    },
    {
      "cell_type": "code",
      "source": [
        "Data['Category'].value_counts()"
      ],
      "metadata": {
        "colab": {
          "base_uri": "https://localhost:8080/"
        },
        "id": "vmbo1BJLy-zN",
        "outputId": "17a26dff-c576-4e2d-a361-0924657bb3a1"
      },
      "execution_count": 52,
      "outputs": [
        {
          "output_type": "execute_result",
          "data": {
            "text/plain": [
              "Java Developer               84\n",
              "Testing                      70\n",
              "DevOps Engineer              55\n",
              "Python Developer             48\n",
              "Web Designing                45\n",
              "HR                           44\n",
              "Hadoop                       42\n",
              "Blockchain                   40\n",
              "ETL Developer                40\n",
              "Operations Manager           40\n",
              "Data Science                 40\n",
              "Sales                        40\n",
              "Mechanical Engineer          40\n",
              "Arts                         36\n",
              "Database                     33\n",
              "Electrical Engineering       30\n",
              "Health and fitness           30\n",
              "PMO                          30\n",
              "Business Analyst             28\n",
              "DotNet Developer             28\n",
              "Automation Testing           26\n",
              "Network Security Engineer    25\n",
              "SAP Developer                24\n",
              "Civil Engineer               24\n",
              "Advocate                     20\n",
              "Name: Category, dtype: int64"
            ]
          },
          "metadata": {},
          "execution_count": 52
        }
      ]
    },
    {
      "cell_type": "code",
      "source": [
        "import seaborn as sns\n",
        "plt.figure(figsize=(20,5))\n",
        "plt.xticks(rotation=90) \n",
        "ax=sns.countplot(x=\"Category\",data=ResumeData)\n",
        "for p in ax.patches:\n",
        "    ax.annotate(str(p.get_height()), (p.get_x() * 1.01 , p.get_height() * 1.01))\n",
        "plt.show()\n",
        "     "
      ],
      "metadata": {
        "colab": {
          "base_uri": "https://localhost:8080/",
          "height": 457
        },
        "id": "_u7QzceNzEM-",
        "outputId": "6738556e-3562-46ea-8a5d-3627acf9a8d7"
      },
      "execution_count": 54,
      "outputs": [
        {
          "output_type": "display_data",
          "data": {
            "text/plain": [
              "<Figure size 1440x360 with 1 Axes>"
            ],
            "image/png": "[encoded data removed]"
          },
          "metadata": {
            "needs_background": "light"
          }
        }
      ]
    },
    {
      "cell_type": "code",
      "source": [
        "from matplotlib.gridspec import GridSpec\n",
        "targetCounts = Data['Category'].value_counts()\n",
        "targetLabels  = Data['Category'].unique()\n",
        "plt.figure(1, figsize=(40,40))\n",
        "the_grid = GridSpec(2, 2)"
      ],
      "metadata": {
        "colab": {
          "base_uri": "https://localhost:8080/",
          "height": 34
        },
        "id": "s8TgeOnNzHli",
        "outputId": "e7df7ea2-55d6-48e4-920a-d9037c8f60a6"
      },
      "execution_count": 55,
      "outputs": [
        {
          "output_type": "display_data",
          "data": {
            "text/plain": [
              "<Figure size 2880x2880 with 0 Axes>"
            ]
          },
          "metadata": {}
        }
      ]
    },
    {
      "cell_type": "code",
      "source": [
        "source_pie = plt.pie(targetCounts, labels=targetLabels, autopct='%1.1f%%', shadow=True)\n",
        "plt.figure(figsize = (3,2))\n",
        "plt.show()"
      ],
      "metadata": {
        "colab": {
          "base_uri": "https://localhost:8080/",
          "height": 265
        },
        "id": "nAv8fe8j7n74",
        "outputId": "539ed9f4-0cbf-4325-fd45-50d3ba4f2817"
      },
      "execution_count": 67,
      "outputs": [
        {
          "output_type": "display_data",
          "data": {
            "text/plain": [
              "<Figure size 432x288 with 1 Axes>"
            ],
            "image/png": "[encoded data removed]"
          },
          "metadata": {}
        },
        {
          "output_type": "display_data",
          "data": {
            "text/plain": [
              "<Figure size 216x144 with 0 Axes>"
            ]
          },
          "metadata": {}
        }
      ]
    },
    {
      "cell_type": "code",
      "source": [
        "import re\n",
        "def cleanResume(resumeText):\n",
        "    resumeText = re.sub('http\\S+\\s*', ' ', resumeText)  # remove URLs\n",
        "    resumeText = re.sub('RT|cc', ' ', resumeText)  # remove RT and cc\n",
        "    resumeText = re.sub('#\\S+', '', resumeText)  # remove hashtags\n",
        "    resumeText = re.sub('@\\S+', '  ', resumeText)  # remove mentions\n",
        "    resumeText = re.sub('[%s]' % re.escape(\"\"\"!\"#$%&'()*+,-./:;<=>?@[\\]^_`{|}~\"\"\"), ' ', resumeText)  # remove punctuations\n",
        "    resumeText = re.sub(r'[^\\x00-\\x7f]',r' ', resumeText) \n",
        "    resumeText = re.sub('\\s+', ' ', resumeText)  # remove extra whitespace\n",
        "    return resumeText\n",
        "    \n",
        "Data['cleaned_resume'] = Data.Resume.apply(lambda x: cleanResume(x))"
      ],
      "metadata": {
        "id": "UMi0kCFf7tJ1"
      },
      "execution_count": 68,
      "outputs": []
    },
    {
      "cell_type": "code",
      "source": [
        "Data.head()"
      ],
      "metadata": {
        "colab": {
          "base_uri": "https://localhost:8080/",
          "height": 206
        },
        "id": "VCDzCxwq9OTO",
        "outputId": "ae087ab1-2775-474b-a1dc-0245ebc30621"
      },
      "execution_count": 69,
      "outputs": [
        {
          "output_type": "execute_result",
          "data": {
            "text/plain": [
              "       Category                                             Resume  \\\n",
              "0  Data Science  Skills * Programming Languages: Python (pandas...   \n",
              "1  Data Science  Education Details \\r\\nMay 2013 to May 2017 B.E...   \n",
              "2  Data Science  Areas of Interest Deep Learning, Control Syste...   \n",
              "3  Data Science  Skills â¢ R â¢ Python â¢ SAP HANA â¢ Table...   \n",
              "4  Data Science  Education Details \\r\\n MCA   YMCAUST,  Faridab...   \n",
              "\n",
              "  Cleaned_Resume                                     cleaned_resume  \n",
              "0                 Skills Programming Languages Python pandas num...  \n",
              "1                 Education Details May 2013 to May 2017 B E UIT...  \n",
              "2                 Areas of Interest Deep Learning Control System...  \n",
              "3                 Skills R Python SAP HANA Tableau SAP HANA SQL ...  \n",
              "4                 Education Details MCA YMCAUST Faridabad Haryan...  "
            ],
            "text/html": [
              "\n",
              "  <div id=\"df-b2a9718b-885b-4edb-aefb-aefb531e6869\">\n",
              "    <div class=\"colab-df-container\">\n",
              "      <div>\n",
              "<style scoped>\n",
              "    .dataframe tbody tr th:only-of-type {\n",
              "        vertical-align: middle;\n",
              "    }\n",
              "\n",
              "    .dataframe tbody tr th {\n",
              "        vertical-align: top;\n",
              "    }\n",
              "\n",
              "    .dataframe thead th {\n",
              "        text-align: right;\n",
              "    }\n",
              "</style>\n",
              "<table border=\"1\" class=\"dataframe\">\n",
              "  <thead>\n",
              "    <tr style=\"text-align: right;\">\n",
              "      <th></th>\n",
              "      <th>Category</th>\n",
              "      <th>Resume</th>\n",
              "      <th>Cleaned_Resume</th>\n",
              "      <th>cleaned_resume</th>\n",
              "    </tr>\n",
              "  </thead>\n",
              "  <tbody>\n",
              "    <tr>\n",
              "      <th>0</th>\n",
              "      <td>Data Science</td>\n",
              "      <td>Skills * Programming Languages: Python (pandas...</td>\n",
              "      <td></td>\n",
              "      <td>Skills Programming Languages Python pandas num...</td>\n",
              "    </tr>\n",
              "    <tr>\n",
              "      <th>1</th>\n",
              "      <td>Data Science</td>\n",
              "      <td>Education Details \\r\\nMay 2013 to May 2017 B.E...</td>\n",
              "      <td></td>\n",
              "      <td>Education Details May 2013 to May 2017 B E UIT...</td>\n",
              "    </tr>\n",
              "    <tr>\n",
              "      <th>2</th>\n",
              "      <td>Data Science</td>\n",
              "      <td>Areas of Interest Deep Learning, Control Syste...</td>\n",
              "      <td></td>\n",
              "      <td>Areas of Interest Deep Learning Control System...</td>\n",
              "    </tr>\n",
              "    <tr>\n",
              "      <th>3</th>\n",
              "      <td>Data Science</td>\n",
              "      <td>Skills â¢ R â¢ Python â¢ SAP HANA â¢ Table...</td>\n",
              "      <td></td>\n",
              "      <td>Skills R Python SAP HANA Tableau SAP HANA SQL ...</td>\n",
              "    </tr>\n",
              "    <tr>\n",
              "      <th>4</th>\n",
              "      <td>Data Science</td>\n",
              "      <td>Education Details \\r\\n MCA   YMCAUST,  Faridab...</td>\n",
              "      <td></td>\n",
              "      <td>Education Details MCA YMCAUST Faridabad Haryan...</td>\n",
              "    </tr>\n",
              "  </tbody>\n",
              "</table>\n",
              "</div>\n",
              "      <button class=\"colab-df-convert\" onclick=\"convertToInteractive('df-b2a9718b-885b-4edb-aefb-aefb531e6869')\"\n",
              "              title=\"Convert this dataframe to an interactive table.\"\n",
              "              style=\"display:none;\">\n",
              "        \n",
              "  <svg xmlns=\"http://www.w3.org/2000/svg\" height=\"24px\"viewBox=\"0 0 24 24\"\n",
              "       width=\"24px\">\n",
              "    <path d=\"M0 0h24v24H0V0z\" fill=\"none\"/>\n",
              "    <path d=\"M18.56 5.44l.94 2.06.94-2.06 2.06-.94-2.06-.94-.94-2.06-.94 2.06-2.06.94zm-11 1L8.5 8.5l.94-2.06 2.06-.94-2.06-.94L8.5 2.5l-.94 2.06-2.06.94zm10 10l.94 2.06.94-2.06 2.06-.94-2.06-.94-.94-2.06-.94 2.06-2.06.94z\"/><path d=\"M17.41 7.96l-1.37-1.37c-.4-.4-.92-.59-1.43-.59-.52 0-1.04.2-1.43.59L10.3 9.45l-7.72 7.72c-.78.78-.78 2.05 0 2.83L4 21.41c.39.39.9.59 1.41.59.51 0 1.02-.2 1.41-.59l7.78-7.78 2.81-2.81c.8-.78.8-2.07 0-2.86zM5.41 20L4 18.59l7.72-7.72 1.47 1.35L5.41 20z\"/>\n",
              "  </svg>\n",
              "      </button>\n",
              "      \n",
              "  <style>\n",
              "    .colab-df-container {\n",
              "      display:flex;\n",
              "      flex-wrap:wrap;\n",
              "      gap: 12px;\n",
              "    }\n",
              "\n",
              "    .colab-df-convert {\n",
              "      background-color: #E8F0FE;\n",
              "      border: none;\n",
              "      border-radius: 50%;\n",
              "      cursor: pointer;\n",
              "      display: none;\n",
              "      fill: #1967D2;\n",
              "      height: 32px;\n",
              "      padding: 0 0 0 0;\n",
              "      width: 32px;\n",
              "    }\n",
              "\n",
              "    .colab-df-convert:hover {\n",
              "      background-color: #E2EBFA;\n",
              "      box-shadow: 0px 1px 2px rgba(60, 64, 67, 0.3), 0px 1px 3px 1px rgba(60, 64, 67, 0.15);\n",
              "      fill: #174EA6;\n",
              "    }\n",
              "\n",
              "    [theme=dark] .colab-df-convert {\n",
              "      background-color: #3B4455;\n",
              "      fill: #D2E3FC;\n",
              "    }\n",
              "\n",
              "    [theme=dark] .colab-df-convert:hover {\n",
              "      background-color: #434B5C;\n",
              "      box-shadow: 0px 1px 3px 1px rgba(0, 0, 0, 0.15);\n",
              "      filter: drop-shadow(0px 1px 2px rgba(0, 0, 0, 0.3));\n",
              "      fill: #FFFFFF;\n",
              "    }\n",
              "  </style>\n",
              "\n",
              "      <script>\n",
              "        const buttonEl =\n",
              "          document.querySelector('#df-b2a9718b-885b-4edb-aefb-aefb531e6869 button.colab-df-convert');\n",
              "        buttonEl.style.display =\n",
              "          google.colab.kernel.accessAllowed ? 'block' : 'none';\n",
              "\n",
              "        async function convertToInteractive(key) {\n",
              "          const element = document.querySelector('#df-b2a9718b-885b-4edb-aefb-aefb531e6869');\n",
              "          const dataTable =\n",
              "            await google.colab.kernel.invokeFunction('convertToInteractive',\n",
              "                                                     [key], {});\n",
              "          if (!dataTable) return;\n",
              "\n",
              "          const docLinkHtml = 'Like what you see? Visit the ' +\n",
              "            '<a target=\"_blank\" href=https://colab.research.google.com/notebooks/data_table.ipynb>data table notebook</a>'\n",
              "            + ' to learn more about interactive tables.';\n",
              "          element.innerHTML = '';\n",
              "          dataTable['output_type'] = 'display_data';\n",
              "          await google.colab.output.renderOutput(dataTable, element);\n",
              "          const docLink = document.createElement('div');\n",
              "          docLink.innerHTML = docLinkHtml;\n",
              "          element.appendChild(docLink);\n",
              "        }\n",
              "      </script>\n",
              "    </div>\n",
              "  </div>\n",
              "  "
            ]
          },
          "metadata": {},
          "execution_count": 69
        }
      ]
    },
    {
      "cell_type": "code",
      "source": [
        "DataSet=Data.copy()"
      ],
      "metadata": {
        "id": "6MX0-WLx9Q26"
      },
      "execution_count": 70,
      "outputs": []
    },
    {
      "cell_type": "code",
      "source": [
        "import nltk\n",
        "nltk.download('stopwords')"
      ],
      "metadata": {
        "colab": {
          "base_uri": "https://localhost:8080/"
        },
        "id": "0J80cMML9TfX",
        "outputId": "76eaf235-87aa-4de0-bc06-073c051ba5d1"
      },
      "execution_count": 71,
      "outputs": [
        {
          "output_type": "stream",
          "name": "stderr",
          "text": [
            "[nltk_data] Downloading package stopwords to /root/nltk_data...\n",
            "[nltk_data]   Unzipping corpora/stopwords.zip.\n"
          ]
        },
        {
          "output_type": "execute_result",
          "data": {
            "text/plain": [
              "True"
            ]
          },
          "metadata": {},
          "execution_count": 71
        }
      ]
    },
    {
      "cell_type": "code",
      "source": [
        "nltk.download('punkt')"
      ],
      "metadata": {
        "colab": {
          "base_uri": "https://localhost:8080/"
        },
        "id": "4h2qzz659V6W",
        "outputId": "c66b5976-aa34-43b3-f5ae-6026f4ed787f"
      },
      "execution_count": 72,
      "outputs": [
        {
          "output_type": "stream",
          "name": "stderr",
          "text": [
            "[nltk_data] Downloading package punkt to /root/nltk_data...\n",
            "[nltk_data]   Package punkt is already up-to-date!\n"
          ]
        },
        {
          "output_type": "execute_result",
          "data": {
            "text/plain": [
              "True"
            ]
          },
          "metadata": {},
          "execution_count": 72
        }
      ]
    },
    {
      "cell_type": "code",
      "source": [
        "from nltk.corpus import stopwords\n",
        "import string\n",
        "from wordcloud import WordCloud\n",
        "\n",
        "oneSetOfStopWords = set(stopwords.words('english')+['``',\"''\"])\n",
        "totalWords =[]\n",
        "Sentences = DataSet['Resume'].values\n",
        "cleanedSentences = \"\"\n",
        "for records in Sentences:\n",
        "    cleanedText = cleanResume(records)\n",
        "    cleanedSentences += cleanedText\n",
        "    requiredWords = nltk.word_tokenize(cleanedText)\n",
        "    for word in requiredWords:\n",
        "        if word not in oneSetOfStopWords and word not in string.punctuation:\n",
        "            totalWords.append(word)\n",
        "    \n",
        "wordfreqdist = nltk.FreqDist(totalWords)\n",
        "mostcommon = wordfreqdist.most_common(50)\n",
        "print(mostcommon)"
      ],
      "metadata": {
        "colab": {
          "base_uri": "https://localhost:8080/"
        },
        "id": "0v0xO5299Y3Q",
        "outputId": "1b39891e-f744-4ca9-9452-340b2d5b0c70"
      },
      "execution_count": 73,
      "outputs": [
        {
          "output_type": "stream",
          "name": "stdout",
          "text": [
            "[('Exprience', 3829), ('months', 3233), ('company', 3130), ('Details', 2967), ('description', 2634), ('1', 2134), ('Project', 1808), ('project', 1579), ('6', 1499), ('data', 1438), ('team', 1424), ('Maharashtra', 1385), ('year', 1244), ('Less', 1137), ('January', 1086), ('using', 1041), ('Skill', 1018), ('Pune', 1016), ('Management', 1010), ('SQL', 990), ('Ltd', 934), ('management', 927), ('C', 896), ('Engineering', 855), ('Education', 833), ('Developer', 806), ('Java', 773), ('2', 754), ('development', 752), ('monthsCompany', 746), ('Pvt', 730), ('application', 727), ('System', 715), ('reports', 697), ('business', 696), ('India', 693), ('requirements', 693), ('I', 690), ('various', 688), ('A', 688), ('Data', 674), ('The', 672), ('University', 656), ('process', 648), ('Testing', 646), ('test', 638), ('Responsibilities', 637), ('system', 636), ('testing', 634), ('Software', 632)]\n"
          ]
        }
      ]
    },
    {
      "cell_type": "code",
      "source": [
        "wrdcld = WordCloud().generate(cleanedSentences)\n",
        "plt.figure(figsize=(10,10))\n",
        "plt.imshow(wrdcld, interpolation='bilinear')\n",
        "plt.axis(\"off\")\n",
        "plt.show()"
      ],
      "metadata": {
        "colab": {
          "base_uri": "https://localhost:8080/",
          "height": 310
        },
        "id": "rN2SSu6t9YtC",
        "outputId": "49b25969-b910-46d4-8ede-2779caa13d3f"
      },
      "execution_count": 74,
      "outputs": [
        {
          "output_type": "display_data",
          "data": {
            "text/plain": [
              "<Figure size 720x720 with 1 Axes>"
            ],
            "image/png": "[encoded data removed]"
          },
          "metadata": {
            "needs_background": "light"
          }
        }
      ]
    },
    {
      "cell_type": "code",
      "source": [
        "from sklearn.preprocessing import LabelEncoder\n",
        "\n",
        "var_mod = ['Category']\n",
        "le = LabelEncoder()\n",
        "for i in var_mod:\n",
        "    DataSet[i] = le.fit_transform(DataSet[i])"
      ],
      "metadata": {
        "id": "A6oFjTGw9iV9"
      },
      "execution_count": 75,
      "outputs": []
    },
    {
      "cell_type": "code",
      "source": [
        "DataSet.head()"
      ],
      "metadata": {
        "colab": {
          "base_uri": "https://localhost:8080/",
          "height": 206
        },
        "id": "aVHJ0biZ9jma",
        "outputId": "aa70dec1-7caf-4865-d06a-8ce67b66c457"
      },
      "execution_count": 76,
      "outputs": [
        {
          "output_type": "execute_result",
          "data": {
            "text/plain": [
              "   Category                                             Resume Cleaned_Resume  \\\n",
              "0         6  Skills * Programming Languages: Python (pandas...                  \n",
              "1         6  Education Details \\r\\nMay 2013 to May 2017 B.E...                  \n",
              "2         6  Areas of Interest Deep Learning, Control Syste...                  \n",
              "3         6  Skills â¢ R â¢ Python â¢ SAP HANA â¢ Table...                  \n",
              "4         6  Education Details \\r\\n MCA   YMCAUST,  Faridab...                  \n",
              "\n",
              "                                      cleaned_resume  \n",
              "0  Skills Programming Languages Python pandas num...  \n",
              "1  Education Details May 2013 to May 2017 B E UIT...  \n",
              "2  Areas of Interest Deep Learning Control System...  \n",
              "3  Skills R Python SAP HANA Tableau SAP HANA SQL ...  \n",
              "4  Education Details MCA YMCAUST Faridabad Haryan...  "
            ],
            "text/html": [
              "\n",
              "  <div id=\"df-5b3cb6d4-755e-447d-88eb-82097a296fea\">\n",
              "    <div class=\"colab-df-container\">\n",
              "      <div>\n",
              "<style scoped>\n",
              "    .dataframe tbody tr th:only-of-type {\n",
              "        vertical-align: middle;\n",
              "    }\n",
              "\n",
              "    .dataframe tbody tr th {\n",
              "        vertical-align: top;\n",
              "    }\n",
              "\n",
              "    .dataframe thead th {\n",
              "        text-align: right;\n",
              "    }\n",
              "</style>\n",
              "<table border=\"1\" class=\"dataframe\">\n",
              "  <thead>\n",
              "    <tr style=\"text-align: right;\">\n",
              "      <th></th>\n",
              "      <th>Category</th>\n",
              "      <th>Resume</th>\n",
              "      <th>Cleaned_Resume</th>\n",
              "      <th>cleaned_resume</th>\n",
              "    </tr>\n",
              "  </thead>\n",
              "  <tbody>\n",
              "    <tr>\n",
              "      <th>0</th>\n",
              "      <td>6</td>\n",
              "      <td>Skills * Programming Languages: Python (pandas...</td>\n",
              "      <td></td>\n",
              "      <td>Skills Programming Languages Python pandas num...</td>\n",
              "    </tr>\n",
              "    <tr>\n",
              "      <th>1</th>\n",
              "      <td>6</td>\n",
              "      <td>Education Details \\r\\nMay 2013 to May 2017 B.E...</td>\n",
              "      <td></td>\n",
              "      <td>Education Details May 2013 to May 2017 B E UIT...</td>\n",
              "    </tr>\n",
              "    <tr>\n",
              "      <th>2</th>\n",
              "      <td>6</td>\n",
              "      <td>Areas of Interest Deep Learning, Control Syste...</td>\n",
              "      <td></td>\n",
              "      <td>Areas of Interest Deep Learning Control System...</td>\n",
              "    </tr>\n",
              "    <tr>\n",
              "      <th>3</th>\n",
              "      <td>6</td>\n",
              "      <td>Skills â¢ R â¢ Python â¢ SAP HANA â¢ Table...</td>\n",
              "      <td></td>\n",
              "      <td>Skills R Python SAP HANA Tableau SAP HANA SQL ...</td>\n",
              "    </tr>\n",
              "    <tr>\n",
              "      <th>4</th>\n",
              "      <td>6</td>\n",
              "      <td>Education Details \\r\\n MCA   YMCAUST,  Faridab...</td>\n",
              "      <td></td>\n",
              "      <td>Education Details MCA YMCAUST Faridabad Haryan...</td>\n",
              "    </tr>\n",
              "  </tbody>\n",
              "</table>\n",
              "</div>\n",
              "      <button class=\"colab-df-convert\" onclick=\"convertToInteractive('df-5b3cb6d4-755e-447d-88eb-82097a296fea')\"\n",
              "              title=\"Convert this dataframe to an interactive table.\"\n",
              "              style=\"display:none;\">\n",
              "        \n",
              "  <svg xmlns=\"http://www.w3.org/2000/svg\" height=\"24px\"viewBox=\"0 0 24 24\"\n",
              "       width=\"24px\">\n",
              "    <path d=\"M0 0h24v24H0V0z\" fill=\"none\"/>\n",
              "    <path d=\"M18.56 5.44l.94 2.06.94-2.06 2.06-.94-2.06-.94-.94-2.06-.94 2.06-2.06.94zm-11 1L8.5 8.5l.94-2.06 2.06-.94-2.06-.94L8.5 2.5l-.94 2.06-2.06.94zm10 10l.94 2.06.94-2.06 2.06-.94-2.06-.94-.94-2.06-.94 2.06-2.06.94z\"/><path d=\"M17.41 7.96l-1.37-1.37c-.4-.4-.92-.59-1.43-.59-.52 0-1.04.2-1.43.59L10.3 9.45l-7.72 7.72c-.78.78-.78 2.05 0 2.83L4 21.41c.39.39.9.59 1.41.59.51 0 1.02-.2 1.41-.59l7.78-7.78 2.81-2.81c.8-.78.8-2.07 0-2.86zM5.41 20L4 18.59l7.72-7.72 1.47 1.35L5.41 20z\"/>\n",
              "  </svg>\n",
              "      </button>\n",
              "      \n",
              "  <style>\n",
              "    .colab-df-container {\n",
              "      display:flex;\n",
              "      flex-wrap:wrap;\n",
              "      gap: 12px;\n",
              "    }\n",
              "\n",
              "    .colab-df-convert {\n",
              "      background-color: #E8F0FE;\n",
              "      border: none;\n",
              "      border-radius: 50%;\n",
              "      cursor: pointer;\n",
              "      display: none;\n",
              "      fill: #1967D2;\n",
              "      height: 32px;\n",
              "      padding: 0 0 0 0;\n",
              "      width: 32px;\n",
              "    }\n",
              "\n",
              "    .colab-df-convert:hover {\n",
              "      background-color: #E2EBFA;\n",
              "      box-shadow: 0px 1px 2px rgba(60, 64, 67, 0.3), 0px 1px 3px 1px rgba(60, 64, 67, 0.15);\n",
              "      fill: #174EA6;\n",
              "    }\n",
              "\n",
              "    [theme=dark] .colab-df-convert {\n",
              "      background-color: #3B4455;\n",
              "      fill: #D2E3FC;\n",
              "    }\n",
              "\n",
              "    [theme=dark] .colab-df-convert:hover {\n",
              "      background-color: #434B5C;\n",
              "      box-shadow: 0px 1px 3px 1px rgba(0, 0, 0, 0.15);\n",
              "      filter: drop-shadow(0px 1px 2px rgba(0, 0, 0, 0.3));\n",
              "      fill: #FFFFFF;\n",
              "    }\n",
              "  </style>\n",
              "\n",
              "      <script>\n",
              "        const buttonEl =\n",
              "          document.querySelector('#df-5b3cb6d4-755e-447d-88eb-82097a296fea button.colab-df-convert');\n",
              "        buttonEl.style.display =\n",
              "          google.colab.kernel.accessAllowed ? 'block' : 'none';\n",
              "\n",
              "        async function convertToInteractive(key) {\n",
              "          const element = document.querySelector('#df-5b3cb6d4-755e-447d-88eb-82097a296fea');\n",
              "          const dataTable =\n",
              "            await google.colab.kernel.invokeFunction('convertToInteractive',\n",
              "                                                     [key], {});\n",
              "          if (!dataTable) return;\n",
              "\n",
              "          const docLinkHtml = 'Like what you see? Visit the ' +\n",
              "            '<a target=\"_blank\" href=https://colab.research.google.com/notebooks/data_table.ipynb>data table notebook</a>'\n",
              "            + ' to learn more about interactive tables.';\n",
              "          element.innerHTML = '';\n",
              "          dataTable['output_type'] = 'display_data';\n",
              "          await google.colab.output.renderOutput(dataTable, element);\n",
              "          const docLink = document.createElement('div');\n",
              "          docLink.innerHTML = docLinkHtml;\n",
              "          element.appendChild(docLink);\n",
              "        }\n",
              "      </script>\n",
              "    </div>\n",
              "  </div>\n",
              "  "
            ]
          },
          "metadata": {},
          "execution_count": 76
        }
      ]
    },
    {
      "cell_type": "code",
      "source": [
        "DataSet['Category'].value_counts()"
      ],
      "metadata": {
        "colab": {
          "base_uri": "https://localhost:8080/"
        },
        "id": "-xE2e8Vv9n_M",
        "outputId": "b3f46d8f-46bb-41c0-8ff4-49072e4b253b"
      },
      "execution_count": 77,
      "outputs": [
        {
          "output_type": "execute_result",
          "data": {
            "text/plain": [
              "15    84\n",
              "23    70\n",
              "8     55\n",
              "20    48\n",
              "24    45\n",
              "12    44\n",
              "13    42\n",
              "3     40\n",
              "10    40\n",
              "18    40\n",
              "6     40\n",
              "22    40\n",
              "16    40\n",
              "1     36\n",
              "7     33\n",
              "11    30\n",
              "14    30\n",
              "19    30\n",
              "4     28\n",
              "9     28\n",
              "2     26\n",
              "17    25\n",
              "21    24\n",
              "5     24\n",
              "0     20\n",
              "Name: Category, dtype: int64"
            ]
          },
          "metadata": {},
          "execution_count": 77
        }
      ]
    },
    {
      "cell_type": "code",
      "source": [
        "Data.Category.value_counts()"
      ],
      "metadata": {
        "colab": {
          "base_uri": "https://localhost:8080/"
        },
        "id": "hUeZCkX49rOz",
        "outputId": "720403b4-3ce9-4f9a-8d3e-d04eaeeab80f"
      },
      "execution_count": 78,
      "outputs": [
        {
          "output_type": "execute_result",
          "data": {
            "text/plain": [
              "Java Developer               84\n",
              "Testing                      70\n",
              "DevOps Engineer              55\n",
              "Python Developer             48\n",
              "Web Designing                45\n",
              "HR                           44\n",
              "Hadoop                       42\n",
              "Blockchain                   40\n",
              "ETL Developer                40\n",
              "Operations Manager           40\n",
              "Data Science                 40\n",
              "Sales                        40\n",
              "Mechanical Engineer          40\n",
              "Arts                         36\n",
              "Database                     33\n",
              "Electrical Engineering       30\n",
              "Health and fitness           30\n",
              "PMO                          30\n",
              "Business Analyst             28\n",
              "DotNet Developer             28\n",
              "Automation Testing           26\n",
              "Network Security Engineer    25\n",
              "SAP Developer                24\n",
              "Civil Engineer               24\n",
              "Advocate                     20\n",
              "Name: Category, dtype: int64"
            ]
          },
          "metadata": {},
          "execution_count": 78
        }
      ]
    },
    {
      "cell_type": "code",
      "source": [
        "from sklearn.model_selection import train_test_split\n",
        "from sklearn.feature_extraction.text import TfidfVectorizer\n",
        "from scipy.sparse import hstack\n",
        "\n",
        "requiredText = Data['cleaned_resume'].values\n",
        "requiredTarget = Data['Category'].values\n",
        "\n",
        "word_vectorizer = TfidfVectorizer(\n",
        "    sublinear_tf=True,\n",
        "    stop_words='english')\n",
        "word_vectorizer.fit(requiredText)\n",
        "WordFeatures = word_vectorizer.transform(requiredText)\n",
        "\n",
        "print (\"Feature completed .....\")\n",
        "\n",
        "X_train,X_test,y_train,y_test = train_test_split(WordFeatures,requiredTarget,random_state=42, test_size=0.2,\n",
        "                                                 shuffle=True, stratify=requiredTarget)\n",
        "print(X_train.shape)\n",
        "print(X_test.shape)"
      ],
      "metadata": {
        "colab": {
          "base_uri": "https://localhost:8080/"
        },
        "id": "zusurL9U9urg",
        "outputId": "08bbb318-b7c6-4184-9808-1400973bb34e"
      },
      "execution_count": 80,
      "outputs": [
        {
          "output_type": "stream",
          "name": "stdout",
          "text": [
            "Feature completed .....\n",
            "(769, 7351)\n",
            "(193, 7351)\n"
          ]
        }
      ]
    },
    {
      "cell_type": "code",
      "source": [
        "clf = OneVsRestClassifier(KNeighborsClassifier())\n",
        "clf.fit(X_train, y_train)\n",
        "prediction = clf.predict(X_test)\n",
        "print(clf.score(X_train, y_train))\n",
        "print(clf.score(X_test, y_test))\n"
      ],
      "metadata": {
        "colab": {
          "base_uri": "https://localhost:8080/"
        },
        "id": "3H0Rng4W92Qq",
        "outputId": "fdce304e-d4d3-45e4-98b7-2df51faa748b"
      },
      "execution_count": 81,
      "outputs": [
        {
          "output_type": "stream",
          "name": "stdout",
          "text": [
            "0.9856957087126138\n",
            "0.9792746113989638\n"
          ]
        }
      ]
    },
    {
      "cell_type": "code",
      "source": [
        "print(clf, metrics.classification_report(y_test, prediction))"
      ],
      "metadata": {
        "colab": {
          "base_uri": "https://localhost:8080/"
        },
        "id": "HRFVwZxc95Q7",
        "outputId": "b22c3e58-be13-423d-a9dc-3e5c421a8ca5"
      },
      "execution_count": 82,
      "outputs": [
        {
          "output_type": "stream",
          "name": "stdout",
          "text": [
            "OneVsRestClassifier(estimator=KNeighborsClassifier())                            precision    recall  f1-score   support\n",
            "\n",
            "                 Advocate       1.00      1.00      1.00         4\n",
            "                     Arts       1.00      1.00      1.00         7\n",
            "       Automation Testing       0.75      0.60      0.67         5\n",
            "               Blockchain       1.00      1.00      1.00         8\n",
            "         Business Analyst       1.00      1.00      1.00         6\n",
            "           Civil Engineer       1.00      1.00      1.00         5\n",
            "             Data Science       0.89      1.00      0.94         8\n",
            "                 Database       1.00      0.86      0.92         7\n",
            "          DevOps Engineer       1.00      0.91      0.95        11\n",
            "         DotNet Developer       1.00      1.00      1.00         5\n",
            "            ETL Developer       1.00      1.00      1.00         8\n",
            "   Electrical Engineering       0.86      1.00      0.92         6\n",
            "                       HR       1.00      1.00      1.00         9\n",
            "                   Hadoop       1.00      1.00      1.00         8\n",
            "       Health and fitness       1.00      1.00      1.00         6\n",
            "           Java Developer       1.00      1.00      1.00        17\n",
            "      Mechanical Engineer       1.00      1.00      1.00         8\n",
            "Network Security Engineer       1.00      1.00      1.00         5\n",
            "       Operations Manager       1.00      1.00      1.00         8\n",
            "                      PMO       1.00      1.00      1.00         6\n",
            "         Python Developer       1.00      1.00      1.00        10\n",
            "            SAP Developer       1.00      1.00      1.00         5\n",
            "                    Sales       1.00      1.00      1.00         8\n",
            "                  Testing       0.93      1.00      0.97        14\n",
            "            Web Designing       1.00      1.00      1.00         9\n",
            "\n",
            "                 accuracy                           0.98       193\n",
            "                macro avg       0.98      0.97      0.97       193\n",
            "             weighted avg       0.98      0.98      0.98       193\n",
            "\n"
          ]
        }
      ]
    },
    {
      "cell_type": "code",
      "source": [
        "import random\n",
        "import datetime\n",
        "  \n",
        "# Global List Declaration\n",
        "name = []\n",
        "phno = []\n",
        "add = []\n",
        "checkin = []\n",
        "checkout = []\n",
        "room = []\n",
        "price = []\n",
        "rc = []\n",
        "p = []\n",
        "roomno = []\n",
        "custid = []\n",
        "day = []\n",
        "  \n",
        "# Global Variable Declaration\n",
        "  \n",
        "i = 0\n",
        "  \n",
        "# Home Function\n",
        "def Home():\n",
        "     \n",
        "    print(\"\\t\\t\\t\\t\\t\\t WELCOME TO HOTEL APPLE\\n\")\n",
        "    print(\"\\t\\t\\t 1 Booking\\n\")\n",
        "    print(\"\\t\\t\\t 2 Rooms Info\\n\")\n",
        "    print(\"\\t\\t\\t 3 Room Service(Menu Card)\\n\")\n",
        "    print(\"\\t\\t\\t 4 Payment\\n\")\n",
        "    print(\"\\t\\t\\t 5 Record\\n\")\n",
        "    print(\"\\t\\t\\t 0 Exit\\n\")\n",
        "  \n",
        "    ch=int(input(\"->\"))\n",
        "     \n",
        "    if ch == 1:\n",
        "        print(\" \")\n",
        "        Booking()\n",
        "     \n",
        "    elif ch == 2:\n",
        "        print(\" \")\n",
        "        Rooms_Info()\n",
        "     \n",
        "    elif ch == 3:\n",
        "        print(\" \")\n",
        "        restaurant()\n",
        "     \n",
        "    elif ch == 4:\n",
        "        print(\" \")\n",
        "        Payment()\n",
        "     \n",
        "    elif ch == 5:\n",
        "        print(\" \")\n",
        "        Record()\n",
        "     \n",
        "    else:\n",
        "        exit()\n",
        " \n",
        "# Function used in booking\n",
        "  \n",
        "def date(c):\n",
        "     \n",
        "    if c[2] >= 2021 and c[2] <= 2022:\n",
        "         \n",
        "        if c[1] != 0 and c[1] <= 12:\n",
        "             \n",
        "            if c[1] == 2 and c[0] != 0 and c[0] <= 31:\n",
        "                 \n",
        "                if c[2]%4 == 0 and c[0] <= 29:\n",
        "                    pass\n",
        "                 \n",
        "                elif c[0]<29:\n",
        "                    pass\n",
        "                 \n",
        "                else:\n",
        "                    print(\"Invalid date\\n\")\n",
        "                    name.pop(i)\n",
        "                    phno.pop(i)\n",
        "                    add.pop(i)\n",
        "                    checkin.pop(i)\n",
        "                    checkout.pop(i)\n",
        "                    Booking()\n",
        "             \n",
        "             \n",
        "            # if month is odd & less than equal\n",
        "            # to 7th  month\n",
        "            elif c[1] <= 7 and c[1]%2 != 0 and c[0] <= 31:\n",
        "                pass\n",
        "             \n",
        "            # if month is even & less than equal to 7th\n",
        "            # month and not 2nd month\n",
        "            elif c[1] <= 7 and c[1]%2 == 0 and c[0] <= 30 and c[1] != 2:\n",
        "                pass\n",
        "             \n",
        "            # if month is even & greater than equal\n",
        "            # to 8th  month\n",
        "            elif c[1] >= 8 and c[1]%2 == 0 and c[0] <= 31:\n",
        "                pass\n",
        "             \n",
        "            # if month is odd & greater than equal\n",
        "            # to 8th  month\n",
        "            elif c[1]>=8 and c[1]%2!=0 and c[0]<=30: \n",
        "                pass\n",
        "             \n",
        "            else:\n",
        "                print(\"Invalid date\\n\")\n",
        "                name.pop(i)\n",
        "                phno.pop(i)\n",
        "                add.pop(i)\n",
        "                checkin.pop(i)\n",
        "                checkout.pop(i)\n",
        "                Booking()\n",
        "                 \n",
        "        else:\n",
        "            print(\"Invalid date\\n\")\n",
        "            name.pop(i)\n",
        "            phno.pop(i)\n",
        "            add.pop(i)\n",
        "            checkin.pop(i)\n",
        "            checkout.pop(i)\n",
        "            Booking()\n",
        "             \n",
        "    else:\n",
        "        print(\"Invalid date\\n\")\n",
        "        name.pop(i)\n",
        "        phno.pop(i)\n",
        "        add.pop(i)\n",
        "        checkin.pop(i)\n",
        "        checkout.pop(i)\n",
        "        Booking()\n",
        "  \n",
        "  \n",
        "# Booking function\n",
        "def Booking():\n",
        "     \n",
        "        # used global keyword to\n",
        "        # use global variable 'i'\n",
        "        global i\n",
        "        print(\" BOOKING ROOMS\")\n",
        "        print(\" \")\n",
        "         \n",
        "        while 1:\n",
        "            n = str(input(\"Name: \"))\n",
        "            p1 = str(input(\"Phone No.: \"))\n",
        "            a = str(input(\"Address: \"))\n",
        "             \n",
        "            # checks if any field is not empty\n",
        "            if n!=\"\" and p1!=\"\" and a!=\"\":\n",
        "                name.append(n)\n",
        "                add.append(a)\n",
        "                break\n",
        "                 \n",
        "            else:\n",
        "                 print(\"\\tName, Phone no. & Address cannot be empty..!!\")\n",
        "              \n",
        "        cii=str(input(\"Check-In: \"))\n",
        "        checkin.append(cii)\n",
        "        cii=cii.split('/')\n",
        "        ci=cii\n",
        "        ci[0]=int(ci[0])\n",
        "        ci[1]=int(ci[1])\n",
        "        ci[2]=int(ci[2])\n",
        "        date(ci)\n",
        "          \n",
        "        coo=str(input(\"Check-Out: \"))\n",
        "        checkout.append(coo)\n",
        "        coo=coo.split('/')\n",
        "        co=coo\n",
        "        co[0]=int(co[0])\n",
        "        co[1]=int(co[1])\n",
        "        co[2]=int(co[2])\n",
        "         \n",
        "        # checks if check-out date falls after\n",
        "        # check-in date\n",
        "        if co[1]==ci[2] and co[0]<=ci[0]:\n",
        "             \n",
        "            print(\"\\n\\tErr..!!\\n\\tCheck-Out date must fall after Check-In\\n\")\n",
        "            name.pop(i)\n",
        "            add.pop(i)\n",
        "            checkin.pop(i)\n",
        "            checkout.pop(i)\n",
        "            Booking()\n",
        "        else:\n",
        "            pass\n",
        "         \n",
        "        date(co)\n",
        "        d1 = datetime.datetime(ci[2],ci[1],ci[0])\n",
        "        d2 = datetime.datetime(co[2],co[1],co[0])\n",
        "        d = (d2-d1).days\n",
        "        day.append(d)\n",
        "          \n",
        "        print(\"----SELECT ROOM TYPE----\")\n",
        "        print(\" 1. Standard Non-AC\")\n",
        "        print(\" 2. Standard AC\")\n",
        "        print(\" 3. 3-Bed Non-AC\")\n",
        "        print(\" 4. 3-Bed AC\")\n",
        "        print((\"\\t\\tPress 0 for Room Prices\"))\n",
        "         \n",
        "        ch=int(input(\"->\"))\n",
        "         \n",
        "        # if-conditions to display allotted room\n",
        "        # type and it's price\n",
        "        if ch==0:\n",
        "            print(\" 1. Standard Non-AC - Rs. 3500\")\n",
        "            print(\" 2. Standard AC - Rs. 4000\")\n",
        "            print(\" 3. 3-Bed Non-AC - Rs. 4500\")\n",
        "            print(\" 4. 3-Bed AC - Rs. 5000\")\n",
        "            ch=int(input(\"->\"))\n",
        "        if ch==1:\n",
        "            room.append('Standard Non-AC')\n",
        "            print(\"Room Type- Standard Non-AC\") \n",
        "            price.append(3500)\n",
        "            print(\"Price- 3500\")\n",
        "        elif ch==2:\n",
        "            room.append('Standard AC')\n",
        "            print(\"Room Type- Standard AC\")\n",
        "            price.append(4000)\n",
        "            print(\"Price- 4000\")\n",
        "        elif ch==3:\n",
        "            room.append('3-Bed Non-AC')\n",
        "            print(\"Room Type- 3-Bed Non-AC\")\n",
        "            price.append(4500)\n",
        "            print(\"Price- 4500\")\n",
        "        elif ch==4:\n",
        "            room.append('3-Bed AC')\n",
        "            print(\"Room Type- 3-Bed AC\")\n",
        "            price.append(5000)\n",
        "            print(\"Price- 5000\")\n",
        "        else:\n",
        "            print(\" Wrong choice..!!\")\n",
        "  \n",
        " \n",
        "        # randomly generating room no. and customer\n",
        "        # id for customer\n",
        "        rn = random.randrange(40)+300\n",
        "        cid = random.randrange(40)+10\n",
        "         \n",
        "         \n",
        "        # checks if allotted room no. & customer\n",
        "        # id already not allotted\n",
        "        while rn in roomno or cid in custid:\n",
        "            rn = random.randrange(60)+300\n",
        "            cid = random.randrange(60)+10\n",
        "             \n",
        "        rc.append(0)\n",
        "        p.append(0)\n",
        "               \n",
        "        if p1 not in phno:\n",
        "            phno.append(p1)\n",
        "        elif p1 in phno:\n",
        "            for n in range(0,i):\n",
        "                if p1== phno[n]:\n",
        "                    if p[n]==1:\n",
        "                        phno.append(p1)\n",
        "        elif p1 in phno:\n",
        "            for n in range(0,i):\n",
        "                if p1== phno[n]:\n",
        "                    if p[n]==0:\n",
        "                        print(\"\\tPhone no. already exists and payment yet not done..!!\")\n",
        "                        name.pop(i)\n",
        "                        add.pop(i)\n",
        "                        checkin.pop(i)\n",
        "                        checkout.pop(i)\n",
        "                        Booking()\n",
        "        print(\"\")\n",
        "        print(\"\\t\\t\\t***ROOM BOOKED SUCCESSFULLY***\\n\")\n",
        "        print(\"Room No. - \",rn)\n",
        "        print(\"Customer Id - \",cid)\n",
        "        roomno.append(rn)\n",
        "        custid.append(cid)\n",
        "        i=i+1\n",
        "        n=int(input(\"0-BACK\\n ->\"))\n",
        "        if n==0:\n",
        "            Home()\n",
        "        else:\n",
        "            exit()\n",
        " \n",
        "# ROOMS INFO\n",
        "def Rooms_Info():\n",
        "    print(\"         ------ HOTEL ROOMS INFO ------\")\n",
        "    print(\"\")\n",
        "    print(\"STANDARD NON-AC\")\n",
        "    print(\"---------------------------------------------------------------\")\n",
        "    print(\"Room amenities include: 1 Double Bed, Television, Telephone,\")\n",
        "    print(\"Double-Door Cupboard, 1 Coffee table with 2 sofa, Balcony and\")\n",
        "    print(\"an attached washroom with hot/cold water.\\n\")\n",
        "    print(\"STANDARD NON-AC\")\n",
        "    print(\"---------------------------------------------------------------\")\n",
        "    print(\"Room amenities include: 1 Double Bed, Television, Telephone,\")\n",
        "    print(\"Double-Door Cupboard, 1 Coffee table with 2 sofa, Balcony and\")\n",
        "    print(\"an attached washroom with hot/cold water + Window/Split AC.\\n\")\n",
        "    print(\"3-Bed NON-AC\")\n",
        "    print(\"---------------------------------------------------------------\")\n",
        "    print(\"Room amenities include: 1 Double Bed + 1 Single Bed, Television,\")\n",
        "    print(\"Telephone, a Triple-Door Cupboard, 1 Coffee table with 2 sofa, 1\")\n",
        "    print(\"Side table, Balcony with an Accent table with 2 Chair and an\")\n",
        "    print(\"attached washroom with hot/cold water.\\n\")\n",
        "    print(\"3-Bed AC\")\n",
        "    print(\"---------------------------------------------------------------\")\n",
        "    print(\"Room amenities include: 1 Double Bed + 1 Single Bed, Television,\")\n",
        "    print(\"Telephone, a Triple-Door Cupboard, 1 Coffee table with 2 sofa, \")\n",
        "    print(\"1 Side table, Balcony with an Accent table with 2 Chair and an\")\n",
        "    print(\"attached washroom with hot/cold water + Window/Split AC.\\n\\n\")\n",
        "    print()\n",
        "    n=int(input(\"0-BACK\\n ->\"))\n",
        "    if n==0:\n",
        "        Home()\n",
        "    else:\n",
        "        exit()\n",
        " \n",
        "# RESTAURANT FUNCTION\n",
        "def restaurant():\n",
        "    ph=int(input(\"Customer Id: \"))\n",
        "    global i\n",
        "    f=0\n",
        "    r=0\n",
        "    for n in range(0,i):\n",
        "        if custid[n]==ph and p[n]==0:\n",
        "            f=1\n",
        "            print(\"-------------------------------------------------------------------------\")\n",
        "            print(\"                           Hotel APPLE\")\n",
        "            print(\"-------------------------------------------------------------------------\")\n",
        "            print(\"                            Menu Card\")\n",
        "            print(\"-------------------------------------------------------------------------\")\n",
        "            print(\"\\n BEVARAGES                              26 Dal Fry................ 140.00\")\n",
        "            print(\"----------------------------------      27 Dal Makhani............ 150.00\")\n",
        "            print(\" 1  Regular Tea............. 20.00      28 Dal Tadka.............. 150.00\")\n",
        "            print(\" 2  Masala Tea.............. 25.00\")\n",
        "            print(\" 3  Coffee.................. 25.00      ROTI\")\n",
        "            print(\" 4  Cold Drink.............. 25.00     ----------------------------------\")\n",
        "            print(\" 5  Bread Butter............ 30.00      29 Plain Roti.............. 15.00\")\n",
        "            print(\" 6  Bread Jam............... 30.00      30 Butter Roti............. 15.00\")\n",
        "            print(\" 7  Veg. Sandwich........... 50.00      31 Tandoori Roti........... 20.00\")\n",
        "            print(\" 8  Veg. Toast Sandwich..... 50.00      32 Butter Naan............. 20.00\")\n",
        "            print(\" 9  Cheese Toast Sandwich... 70.00\")\n",
        "            print(\" 10 Grilled Sandwich........ 70.00      RICE\")\n",
        "            print(\"                                       ----------------------------------\")\n",
        "            print(\" SOUPS                                  33 Plain Rice.............. 90.00\")\n",
        "            print(\"----------------------------------      34 Jeera Rice.............. 90.00\")\n",
        "            print(\" 11 Tomato Soup............ 110.00      35 Veg Pulao.............. 110.00\")\n",
        "            print(\" 12 Hot & Sour............. 110.00      36 Peas Pulao............. 110.00\")\n",
        "            print(\" 13 Veg. Noodle Soup....... 110.00\")\n",
        "            print(\" 14 Sweet Corn............. 110.00      SOUTH INDIAN\")\n",
        "            print(\" 15 Veg. Munchow........... 110.00     ----------------------------------\")\n",
        "            print(\"                                        37 Plain Dosa............. 100.00\")\n",
        "            print(\" MAIN COURSE                            38 Onion Dosa............. 110.00\")\n",
        "            print(\"----------------------------------      39 Masala Dosa............ 130.00\")\n",
        "            print(\" 16 Shahi Paneer........... 110.00      40 Paneer Dosa............ 130.00\")\n",
        "            print(\" 17 Kadai Paneer........... 110.00      41 Rice Idli.............. 130.00\")\n",
        "            print(\" 18 Handi Paneer........... 120.00      42 Sambhar Vada........... 140.00\")\n",
        "            print(\" 19 Palak Paneer........... 120.00\")\n",
        "            print(\" 20 Chilli Paneer.......... 140.00      ICE CREAM\")\n",
        "            print(\" 21 Matar Mushroom......... 140.00     ----------------------------------\")\n",
        "            print(\" 22 Mix Veg................ 140.00      43 Vanilla................. 60.00\")\n",
        "            print(\" 23 Jeera Aloo............. 140.00      44 Strawberry.............. 60.00\")\n",
        "            print(\" 24 Malai Kofta............ 140.00      45 Pineapple............... 60.00\")\n",
        "            print(\" 25 Aloo Matar............. 140.00      46 Butter Scotch........... 60.00\")\n",
        "            print(\"Press 0 -to end \")\n",
        "            ch=1\n",
        "            while(ch!=0):\n",
        "                 \n",
        "                ch=int(input(\" -> \"))\n",
        "                 \n",
        "                # if-elif-conditions to assign item\n",
        "                # prices listed in menu card\n",
        "                if ch==1 or ch==31 or ch==32:\n",
        "                    rs=20\n",
        "                    r=r+rs\n",
        "                elif ch<=4 and ch>=2:\n",
        "                    rs=25\n",
        "                    r=r+rs\n",
        "                elif ch<=6 and ch>=5:\n",
        "                    rs=30\n",
        "                    r=r+rs\n",
        "                elif ch<=8 and ch>=7:\n",
        "                    rs=50\n",
        "                    r=r+rs\n",
        "                elif ch<=10 and ch>=9:\n",
        "                    rs=70\n",
        "                    r=r+rs\n",
        "                elif (ch<=17 and ch>=11) or ch==35 or ch==36 or ch==38:\n",
        "                    rs=110\n",
        "                    r=r+rs\n",
        "                elif ch<=19 and ch>=18:\n",
        "                    rs=120\n",
        "                    r=r+rs\n",
        "                elif (ch<=26 and ch>=20) or ch==42:\n",
        "                    rs=140\n",
        "                    r=r+rs\n",
        "                elif ch<=28 and ch>=27:\n",
        "                    rs=150\n",
        "                    r=r+rs\n",
        "                elif ch<=30 and ch>=29:\n",
        "                    rs=15\n",
        "                    r=r+rs\n",
        "                elif ch==33 or ch==34:\n",
        "                    rs=90\n",
        "                    r=r+rs\n",
        "                elif ch==37:\n",
        "                    rs=100\n",
        "                    r=r+rs\n",
        "                elif ch<=41 and ch>=39:\n",
        "                    rs=130\n",
        "                    r=r+rs\n",
        "                elif ch<=46 and ch>=43:\n",
        "                    rs=60\n",
        "                    r=r+rs\n",
        "                elif ch==0:\n",
        "                    pass\n",
        "                else:\n",
        "                    print(\"Wrong Choice..!!\")\n",
        "            print(\"Total Bill: \",r)\n",
        "             \n",
        "            # updates restaurant charges and then\n",
        "            # appends in 'rc' list\n",
        "            r=r+rc.pop(n)\n",
        "            rc.append(r)   \n",
        "        else:\n",
        "            pass\n",
        "    if f == 0:\n",
        "        print(\"Invalid Customer Id\")\n",
        "    n=int(input(\"0-BACK\\n ->\"))\n",
        "    if n==0:\n",
        "        Home()\n",
        "    else:\n",
        "        exit()\n",
        "      \n",
        "                  \n",
        "# PAYMENT FUNCTION            \n",
        "def Payment():\n",
        "     \n",
        "    ph=str(input(\"Phone Number: \"))\n",
        "    global i\n",
        "    f=0\n",
        "     \n",
        "    for n in range(0,i):\n",
        "        if ph==phno[n] :\n",
        "             \n",
        "            # checks if payment is\n",
        "            # not already done\n",
        "             if p[n]==0:\n",
        "                f=1\n",
        "                print(\" Payment\")\n",
        "                print(\" --------------------------------\")\n",
        "                print(\"  MODE OF PAYMENT\")\n",
        "                  \n",
        "                print(\"  1- Credit/Debit Card\")\n",
        "                print(\"  2- Paytm/PhonePe\")\n",
        "                print(\"  3- Using UPI\")\n",
        "                print(\"  4- Cash\")\n",
        "                x=int(input(\"-> \"))\n",
        "                print(\"\\n  Amount: \",(price[n]*day[n])+rc[n])\n",
        "                print(\"\\n            Pay For APPLE\")\n",
        "                print(\"  (y/n)\")\n",
        "                ch=str(input(\"->\"))\n",
        "                 \n",
        "                if ch=='y' or ch=='Y':\n",
        "                    print(\"\\n\\n --------------------------------\")\n",
        "                    print(\"           Hotel APPLE\")\n",
        "                    print(\" --------------------------------\")\n",
        "                    print(\"              Bill\")\n",
        "                    print(\" --------------------------------\")\n",
        "                    print(\" Name: \",name[n],\"\\t\\n Phone No.: \",phno[n],\"\\t\\n Address: \",add[n],\"\\t\")\n",
        "                    print(\"\\n Check-In: \",checkin[n],\"\\t\\n Check-Out: \",checkout[n],\"\\t\")\n",
        "                    print(\"\\n Room Type: \",room[n],\"\\t\\n Room Charges: \",price[n]*day[n],\"\\t\")\n",
        "                    print(\" Restaurant Charges: \\t\",rc[n])\n",
        "                    print(\" --------------------------------\")\n",
        "                    print(\"\\n Total Amount: \",(price[n]*day[n])+rc[n],\"\\t\")\n",
        "                    print(\" --------------------------------\")\n",
        "                    print(\"          Thank You\")\n",
        "                    print(\"          Visit Again :)\")\n",
        "                    print(\" --------------------------------\\n\")\n",
        "                    p.pop(n)\n",
        "                    p.insert(n,1)\n",
        "                     \n",
        "                    # pops room no. and customer id from list and\n",
        "                    # later assigns zero at same position\n",
        "                    roomno.pop(n)\n",
        "                    custid.pop(n)\n",
        "                    roomno.insert(n,0)\n",
        "                    custid.insert(n,0)\n",
        "                     \n",
        "             else:\n",
        "                 \n",
        "                for j in range(n+1,i):\n",
        "                    if ph==phno[j] :\n",
        "                        if p[j]==0:\n",
        "                            pass\n",
        "                         \n",
        "                        else:\n",
        "                            f=1\n",
        "                            print(\"\\n\\tPayment has been Made :)\\n\\n\")\n",
        "    if f==0:   \n",
        "        print(\"Invalid Customer Id\")\n",
        "         \n",
        "    n = int(input(\"0-BACK\\n ->\"))\n",
        "    if n == 0:\n",
        "        Home()\n",
        "    else:\n",
        "        exit()\n",
        " \n",
        "# RECORD FUNCTION\n",
        "def Record():\n",
        "     \n",
        "    # checks if any record exists or not\n",
        "    if phno!=[]:\n",
        "        print(\"        *** HOTEL RECORD ***\\n\")\n",
        "        print(\"| Name        | Phone No.    | Address       | Check-In  | Check-Out     | Room Type     | Price      |\")\n",
        "        print(\"----------------------------------------------------------------------------------------------------------------------\")\n",
        "         \n",
        "        for n in range(0,i):\n",
        "            print(\"|\",name[n],\"\\t |\",phno[n],\"\\t|\",add[n],\"\\t|\",checkin[n],\"\\t|\",checkout[n],\"\\t|\",room[n],\"\\t|\",price[n])\n",
        "         \n",
        "        print(\"----------------------------------------------------------------------------------------------------------------------\")\n",
        "     \n",
        "    else:\n",
        "        print(\"No Records Found\")\n",
        "    n = int(input(\"0-BACK\\n ->\"))\n",
        "    if n == 0:\n",
        "        Home()\n",
        "         \n",
        "    else:\n",
        "        exit()\n",
        " \n",
        "# Driver Code\n",
        "Home()"
      ],
      "metadata": {
        "colab": {
          "base_uri": "https://localhost:8080/"
        },
        "id": "8qgmbfB9ATNo",
        "outputId": "d6bd1597-d7ff-4a5c-9252-313b4f6495a6"
      },
      "execution_count": 3,
      "outputs": [
        {
          "name": "stdout",
          "output_type": "stream",
          "text": [
            "\t\t\t\t\t\t WELCOME TO HOTEL APPLE\n",
            "\n",
            "\t\t\t 1 Booking\n",
            "\n",
            "\t\t\t 2 Rooms Info\n",
            "\n",
            "\t\t\t 3 Room Service(Menu Card)\n",
            "\n",
            "\t\t\t 4 Payment\n",
            "\n",
            "\t\t\t 5 Record\n",
            "\n",
            "\t\t\t 0 Exit\n",
            "\n",
            "->1\n",
            " \n",
            " BOOKING ROOMS\n",
            " \n",
            "Name: jerom\n",
            "Phone No.: 7358928992\n",
            "Address: karur\n",
            "Check-In:  14/2/2022\n",
            "Check-Out:  15/2/2022\n",
            "----SELECT ROOM TYPE----\n",
            " 1. Standard Non-AC\n",
            " 2. Standard AC\n",
            " 3. 3-Bed Non-AC\n",
            " 4. 3-Bed AC\n",
            "\t\tPress 0 for Room Prices\n",
            "->0\n",
            " 1. Standard Non-AC - Rs. 3500\n",
            " 2. Standard AC - Rs. 4000\n",
            " 3. 3-Bed Non-AC - Rs. 4500\n",
            " 4. 3-Bed AC - Rs. 5000\n",
            "->3\n",
            "Room Type- 3-Bed Non-AC\n",
            "Price- 4500\n",
            "\n",
            "\t\t\t***ROOM BOOKED SUCCESSFULLY***\n",
            "\n",
            "Room No. -  334\n",
            "Customer Id -  44\n",
            "0-BACK\n",
            " ->0\n",
            "\t\t\t\t\t\t WELCOME TO HOTEL APPLE\n",
            "\n",
            "\t\t\t 1 Booking\n",
            "\n",
            "\t\t\t 2 Rooms Info\n",
            "\n",
            "\t\t\t 3 Room Service(Menu Card)\n",
            "\n",
            "\t\t\t 4 Payment\n",
            "\n",
            "\t\t\t 5 Record\n",
            "\n",
            "\t\t\t 0 Exit\n",
            "\n",
            "->2\n",
            " \n",
            "         ------ HOTEL ROOMS INFO ------\n",
            "\n",
            "STANDARD NON-AC\n",
            "---------------------------------------------------------------\n",
            "Room amenities include: 1 Double Bed, Television, Telephone,\n",
            "Double-Door Cupboard, 1 Coffee table with 2 sofa, Balcony and\n",
            "an attached washroom with hot/cold water.\n",
            "\n",
            "STANDARD NON-AC\n",
            "---------------------------------------------------------------\n",
            "Room amenities include: 1 Double Bed, Television, Telephone,\n",
            "Double-Door Cupboard, 1 Coffee table with 2 sofa, Balcony and\n",
            "an attached washroom with hot/cold water + Window/Split AC.\n",
            "\n",
            "3-Bed NON-AC\n",
            "---------------------------------------------------------------\n",
            "Room amenities include: 1 Double Bed + 1 Single Bed, Television,\n",
            "Telephone, a Triple-Door Cupboard, 1 Coffee table with 2 sofa, 1\n",
            "Side table, Balcony with an Accent table with 2 Chair and an\n",
            "attached washroom with hot/cold water.\n",
            "\n",
            "3-Bed AC\n",
            "---------------------------------------------------------------\n",
            "Room amenities include: 1 Double Bed + 1 Single Bed, Television,\n",
            "Telephone, a Triple-Door Cupboard, 1 Coffee table with 2 sofa, \n",
            "1 Side table, Balcony with an Accent table with 2 Chair and an\n",
            "attached washroom with hot/cold water + Window/Split AC.\n",
            "\n",
            "\n",
            "\n",
            "0-BACK\n",
            " ->0\n",
            "\t\t\t\t\t\t WELCOME TO HOTEL APPLE\n",
            "\n",
            "\t\t\t 1 Booking\n",
            "\n",
            "\t\t\t 2 Rooms Info\n",
            "\n",
            "\t\t\t 3 Room Service(Menu Card)\n",
            "\n",
            "\t\t\t 4 Payment\n",
            "\n",
            "\t\t\t 5 Record\n",
            "\n",
            "\t\t\t 0 Exit\n",
            "\n",
            "->3\n",
            " \n",
            "Customer Id: 44\n",
            "-------------------------------------------------------------------------\n",
            "                           Hotel APPLE\n",
            "-------------------------------------------------------------------------\n",
            "                            Menu Card\n",
            "-------------------------------------------------------------------------\n",
            "\n",
            " BEVARAGES                              26 Dal Fry................ 140.00\n",
            "----------------------------------      27 Dal Makhani............ 150.00\n",
            " 1  Regular Tea............. 20.00      28 Dal Tadka.............. 150.00\n",
            " 2  Masala Tea.............. 25.00\n",
            " 3  Coffee.................. 25.00      ROTI\n",
            " 4  Cold Drink.............. 25.00     ----------------------------------\n",
            " 5  Bread Butter............ 30.00      29 Plain Roti.............. 15.00\n",
            " 6  Bread Jam............... 30.00      30 Butter Roti............. 15.00\n",
            " 7  Veg. Sandwich........... 50.00      31 Tandoori Roti........... 20.00\n",
            " 8  Veg. Toast Sandwich..... 50.00      32 Butter Naan............. 20.00\n",
            " 9  Cheese Toast Sandwich... 70.00\n",
            " 10 Grilled Sandwich........ 70.00      RICE\n",
            "                                       ----------------------------------\n",
            " SOUPS                                  33 Plain Rice.............. 90.00\n",
            "----------------------------------      34 Jeera Rice.............. 90.00\n",
            " 11 Tomato Soup............ 110.00      35 Veg Pulao.............. 110.00\n",
            " 12 Hot & Sour............. 110.00      36 Peas Pulao............. 110.00\n",
            " 13 Veg. Noodle Soup....... 110.00\n",
            " 14 Sweet Corn............. 110.00      SOUTH INDIAN\n",
            " 15 Veg. Munchow........... 110.00     ----------------------------------\n",
            "                                        37 Plain Dosa............. 100.00\n",
            " MAIN COURSE                            38 Onion Dosa............. 110.00\n",
            "----------------------------------      39 Masala Dosa............ 130.00\n",
            " 16 Shahi Paneer........... 110.00      40 Paneer Dosa............ 130.00\n",
            " 17 Kadai Paneer........... 110.00      41 Rice Idli.............. 130.00\n",
            " 18 Handi Paneer........... 120.00      42 Sambhar Vada........... 140.00\n",
            " 19 Palak Paneer........... 120.00\n",
            " 20 Chilli Paneer.......... 140.00      ICE CREAM\n",
            " 21 Matar Mushroom......... 140.00     ----------------------------------\n",
            " 22 Mix Veg................ 140.00      43 Vanilla................. 60.00\n",
            " 23 Jeera Aloo............. 140.00      44 Strawberry.............. 60.00\n",
            " 24 Malai Kofta............ 140.00      45 Pineapple............... 60.00\n",
            " 25 Aloo Matar............. 140.00      46 Butter Scotch........... 60.00\n",
            "Press 0 -to end \n",
            " -> 0\n",
            "Total Bill:  0\n",
            "0-BACK\n",
            " ->0\n",
            "\t\t\t\t\t\t WELCOME TO HOTEL APPLE\n",
            "\n",
            "\t\t\t 1 Booking\n",
            "\n",
            "\t\t\t 2 Rooms Info\n",
            "\n",
            "\t\t\t 3 Room Service(Menu Card)\n",
            "\n",
            "\t\t\t 4 Payment\n",
            "\n",
            "\t\t\t 5 Record\n",
            "\n",
            "\t\t\t 0 Exit\n",
            "\n",
            "->4\n",
            " \n",
            "Phone Number: 7358928992\n",
            " Payment\n",
            " --------------------------------\n",
            "  MODE OF PAYMENT\n",
            "  1- Credit/Debit Card\n",
            "  2- Paytm/PhonePe\n",
            "  3- Using UPI\n",
            "  4- Cash\n",
            "-> 4\n",
            "\n",
            "  Amount:  4500\n",
            "\n",
            "            Pay For APPLE\n",
            "  (y/n)\n",
            "->y\n",
            "\n",
            "\n",
            " --------------------------------\n",
            "           Hotel APPLE\n",
            " --------------------------------\n",
            "              Bill\n",
            " --------------------------------\n",
            " Name:  jerom \t\n",
            " Phone No.:  7358928992 \t\n",
            " Address:  karur \t\n",
            "\n",
            " Check-In:   14/2/2022 \t\n",
            " Check-Out:   15/2/2022 \t\n",
            "\n",
            " Room Type:  3-Bed Non-AC \t\n",
            " Room Charges:  4500 \t\n",
            " Restaurant Charges: \t 0\n",
            " --------------------------------\n",
            "\n",
            " Total Amount:  4500 \t\n",
            " --------------------------------\n",
            "          Thank You\n",
            "          Visit Again :)\n",
            " --------------------------------\n",
            "\n",
            "0-BACK\n",
            " ->0\n",
            "\t\t\t\t\t\t WELCOME TO HOTEL APPLE\n",
            "\n",
            "\t\t\t 1 Booking\n",
            "\n",
            "\t\t\t 2 Rooms Info\n",
            "\n",
            "\t\t\t 3 Room Service(Menu Card)\n",
            "\n",
            "\t\t\t 4 Payment\n",
            "\n",
            "\t\t\t 5 Record\n",
            "\n",
            "\t\t\t 0 Exit\n",
            "\n",
            "->5\n",
            " \n",
            "        *** HOTEL RECORD ***\n",
            "\n",
            "| Name        | Phone No.    | Address       | Check-In  | Check-Out     | Room Type     | Price      |\n",
            "----------------------------------------------------------------------------------------------------------------------\n",
            "| jerom \t | 7358928992 \t| karur \t|  14/2/2022 \t|  15/2/2022 \t| 3-Bed Non-AC \t| 4500\n",
            "----------------------------------------------------------------------------------------------------------------------\n",
            "0-BACK\n",
            " ->0\n",
            "\t\t\t\t\t\t WELCOME TO HOTEL APPLE\n",
            "\n",
            "\t\t\t 1 Booking\n",
            "\n",
            "\t\t\t 2 Rooms Info\n",
            "\n",
            "\t\t\t 3 Room Service(Menu Card)\n",
            "\n",
            "\t\t\t 4 Payment\n",
            "\n",
            "\t\t\t 5 Record\n",
            "\n",
            "\t\t\t 0 Exit\n",
            "\n",
            "->0\n"
          ]
        }
      ]
    }
  ]
}